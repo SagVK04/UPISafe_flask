{
 "cells": [
  {
   "cell_type": "code",
   "execution_count": 15,
   "id": "0363126c-f1da-49ea-9ae5-ba51ba419315",
   "metadata": {},
   "outputs": [
    {
     "name": "stdout",
     "output_type": "stream",
     "text": [
      "Requirement already satisfied: pandas in /home/kaka/my-jupyter-env/lib/python3.12/site-packages (2.3.3)\n",
      "Requirement already satisfied: numpy>=1.26.0 in /home/kaka/my-jupyter-env/lib/python3.12/site-packages (from pandas) (2.3.4)\n",
      "Requirement already satisfied: python-dateutil>=2.8.2 in /home/kaka/my-jupyter-env/lib/python3.12/site-packages (from pandas) (2.9.0.post0)\n",
      "Requirement already satisfied: pytz>=2020.1 in /home/kaka/my-jupyter-env/lib/python3.12/site-packages (from pandas) (2025.2)\n",
      "Requirement already satisfied: tzdata>=2022.7 in /home/kaka/my-jupyter-env/lib/python3.12/site-packages (from pandas) (2025.2)\n",
      "Requirement already satisfied: six>=1.5 in /home/kaka/my-jupyter-env/lib/python3.12/site-packages (from python-dateutil>=2.8.2->pandas) (1.17.0)\n",
      "Requirement already satisfied: scikit-learn in /home/kaka/my-jupyter-env/lib/python3.12/site-packages (1.7.2)\n",
      "Requirement already satisfied: numpy>=1.22.0 in /home/kaka/my-jupyter-env/lib/python3.12/site-packages (from scikit-learn) (2.3.4)\n",
      "Requirement already satisfied: scipy>=1.8.0 in /home/kaka/my-jupyter-env/lib/python3.12/site-packages (from scikit-learn) (1.16.2)\n",
      "Requirement already satisfied: joblib>=1.2.0 in /home/kaka/my-jupyter-env/lib/python3.12/site-packages (from scikit-learn) (1.5.2)\n",
      "Requirement already satisfied: threadpoolctl>=3.1.0 in /home/kaka/my-jupyter-env/lib/python3.12/site-packages (from scikit-learn) (3.6.0)\n"
     ]
    }
   ],
   "source": [
    "!pip install pandas\n",
    "!pip install scikit-learn"
   ]
  },
  {
   "cell_type": "code",
   "execution_count": 16,
   "id": "eda2795b-ef23-4df1-a65c-9b0de2c0f9c8",
   "metadata": {},
   "outputs": [],
   "source": [
    "import pandas as pd\n",
    "from sklearn.neighbors import KNeighborsClassifier"
   ]
  },
  {
   "cell_type": "code",
   "execution_count": 19,
   "id": "de5399c4-a0b8-4610-8a0d-1bbd894f2db4",
   "metadata": {},
   "outputs": [],
   "source": [
    "df = pd.read_csv(\"bank_transactions_data_2.csv\")"
   ]
  },
  {
   "cell_type": "code",
   "execution_count": 20,
   "id": "a734c438-531a-4c16-91ba-5ecb253105a7",
   "metadata": {},
   "outputs": [
    {
     "name": "stdout",
     "output_type": "stream",
     "text": [
      "(10000, 13)\n"
     ]
    }
   ],
   "source": [
    "print(df.shape)"
   ]
  },
  {
   "cell_type": "code",
   "execution_count": 21,
   "id": "1e51b938-d581-4695-8a4e-e2fc840ab5c8",
   "metadata": {},
   "outputs": [
    {
     "name": "stdout",
     "output_type": "stream",
     "text": [
      "0\n"
     ]
    }
   ],
   "source": [
    "print(df.duplicated().sum())"
   ]
  },
  {
   "cell_type": "code",
   "execution_count": 22,
   "id": "0e07d5c8-65b6-4852-ad5c-06f0593f9fa7",
   "metadata": {},
   "outputs": [
    {
     "data": {
      "text/html": [
       "<div>\n",
       "<style scoped>\n",
       "    .dataframe tbody tr th:only-of-type {\n",
       "        vertical-align: middle;\n",
       "    }\n",
       "\n",
       "    .dataframe tbody tr th {\n",
       "        vertical-align: top;\n",
       "    }\n",
       "\n",
       "    .dataframe thead th {\n",
       "        text-align: right;\n",
       "    }\n",
       "</style>\n",
       "<table border=\"1\" class=\"dataframe\">\n",
       "  <thead>\n",
       "    <tr style=\"text-align: right;\">\n",
       "      <th></th>\n",
       "      <th>transaction_id</th>\n",
       "      <th>user_id</th>\n",
       "      <th>amount</th>\n",
       "      <th>transaction_type</th>\n",
       "      <th>device_type</th>\n",
       "      <th>location</th>\n",
       "      <th>time_of_day</th>\n",
       "      <th>transaction_hour</th>\n",
       "      <th>is_international</th>\n",
       "      <th>previous_transactions</th>\n",
       "      <th>failed_transactions</th>\n",
       "      <th>account_age_days</th>\n",
       "      <th>is_fraud</th>\n",
       "    </tr>\n",
       "  </thead>\n",
       "  <tbody>\n",
       "    <tr>\n",
       "      <th>0</th>\n",
       "      <td>T00001</td>\n",
       "      <td>U255</td>\n",
       "      <td>43574.75</td>\n",
       "      <td>online</td>\n",
       "      <td>tablet</td>\n",
       "      <td>Singapore</td>\n",
       "      <td>morning</td>\n",
       "      <td>9</td>\n",
       "      <td>1</td>\n",
       "      <td>115</td>\n",
       "      <td>3</td>\n",
       "      <td>35</td>\n",
       "      <td>0</td>\n",
       "    </tr>\n",
       "    <tr>\n",
       "      <th>1</th>\n",
       "      <td>T00002</td>\n",
       "      <td>U661</td>\n",
       "      <td>104351.51</td>\n",
       "      <td>online</td>\n",
       "      <td>desktop</td>\n",
       "      <td>Singapore</td>\n",
       "      <td>night</td>\n",
       "      <td>1</td>\n",
       "      <td>1</td>\n",
       "      <td>15</td>\n",
       "      <td>4</td>\n",
       "      <td>598</td>\n",
       "      <td>1</td>\n",
       "    </tr>\n",
       "    <tr>\n",
       "      <th>2</th>\n",
       "      <td>T00003</td>\n",
       "      <td>U325</td>\n",
       "      <td>211864.52</td>\n",
       "      <td>POS</td>\n",
       "      <td>tablet</td>\n",
       "      <td>Dubai</td>\n",
       "      <td>afternoon</td>\n",
       "      <td>13</td>\n",
       "      <td>1</td>\n",
       "      <td>135</td>\n",
       "      <td>10</td>\n",
       "      <td>550</td>\n",
       "      <td>1</td>\n",
       "    </tr>\n",
       "    <tr>\n",
       "      <th>3</th>\n",
       "      <td>T00004</td>\n",
       "      <td>U327</td>\n",
       "      <td>280370.03</td>\n",
       "      <td>online</td>\n",
       "      <td>tablet</td>\n",
       "      <td>Kolkata</td>\n",
       "      <td>afternoon</td>\n",
       "      <td>15</td>\n",
       "      <td>0</td>\n",
       "      <td>129</td>\n",
       "      <td>10</td>\n",
       "      <td>42</td>\n",
       "      <td>1</td>\n",
       "    </tr>\n",
       "    <tr>\n",
       "      <th>4</th>\n",
       "      <td>T00005</td>\n",
       "      <td>U143</td>\n",
       "      <td>216222.76</td>\n",
       "      <td>online</td>\n",
       "      <td>desktop</td>\n",
       "      <td>Delhi</td>\n",
       "      <td>evening</td>\n",
       "      <td>17</td>\n",
       "      <td>0</td>\n",
       "      <td>11</td>\n",
       "      <td>1</td>\n",
       "      <td>791</td>\n",
       "      <td>0</td>\n",
       "    </tr>\n",
       "  </tbody>\n",
       "</table>\n",
       "</div>"
      ],
      "text/plain": [
       "  transaction_id user_id     amount transaction_type device_type   location  \\\n",
       "0         T00001    U255   43574.75           online      tablet  Singapore   \n",
       "1         T00002    U661  104351.51           online     desktop  Singapore   \n",
       "2         T00003    U325  211864.52              POS      tablet      Dubai   \n",
       "3         T00004    U327  280370.03           online      tablet    Kolkata   \n",
       "4         T00005    U143  216222.76           online     desktop      Delhi   \n",
       "\n",
       "  time_of_day  transaction_hour  is_international  previous_transactions  \\\n",
       "0     morning                 9                 1                    115   \n",
       "1       night                 1                 1                     15   \n",
       "2   afternoon                13                 1                    135   \n",
       "3   afternoon                15                 0                    129   \n",
       "4     evening                17                 0                     11   \n",
       "\n",
       "   failed_transactions  account_age_days  is_fraud  \n",
       "0                    3                35         0  \n",
       "1                    4               598         1  \n",
       "2                   10               550         1  \n",
       "3                   10                42         1  \n",
       "4                    1               791         0  "
      ]
     },
     "execution_count": 22,
     "metadata": {},
     "output_type": "execute_result"
    }
   ],
   "source": [
    "df.head()"
   ]
  },
  {
   "cell_type": "code",
   "execution_count": 23,
   "id": "0f898e45-4107-4309-a086-97a5eba69d32",
   "metadata": {},
   "outputs": [
    {
     "name": "stdout",
     "output_type": "stream",
     "text": [
      "Requirement already satisfied: matplotlib in /home/kaka/my-jupyter-env/lib/python3.12/site-packages (3.10.7)\n",
      "Requirement already satisfied: contourpy>=1.0.1 in /home/kaka/my-jupyter-env/lib/python3.12/site-packages (from matplotlib) (1.3.3)\n",
      "Requirement already satisfied: cycler>=0.10 in /home/kaka/my-jupyter-env/lib/python3.12/site-packages (from matplotlib) (0.12.1)\n",
      "Requirement already satisfied: fonttools>=4.22.0 in /home/kaka/my-jupyter-env/lib/python3.12/site-packages (from matplotlib) (4.60.1)\n",
      "Requirement already satisfied: kiwisolver>=1.3.1 in /home/kaka/my-jupyter-env/lib/python3.12/site-packages (from matplotlib) (1.4.9)\n",
      "Requirement already satisfied: numpy>=1.23 in /home/kaka/my-jupyter-env/lib/python3.12/site-packages (from matplotlib) (2.3.4)\n",
      "Requirement already satisfied: packaging>=20.0 in /home/kaka/my-jupyter-env/lib/python3.12/site-packages (from matplotlib) (25.0)\n",
      "Requirement already satisfied: pillow>=8 in /home/kaka/my-jupyter-env/lib/python3.12/site-packages (from matplotlib) (12.0.0)\n",
      "Requirement already satisfied: pyparsing>=3 in /home/kaka/my-jupyter-env/lib/python3.12/site-packages (from matplotlib) (3.2.5)\n",
      "Requirement already satisfied: python-dateutil>=2.7 in /home/kaka/my-jupyter-env/lib/python3.12/site-packages (from matplotlib) (2.9.0.post0)\n",
      "Requirement already satisfied: six>=1.5 in /home/kaka/my-jupyter-env/lib/python3.12/site-packages (from python-dateutil>=2.7->matplotlib) (1.17.0)\n"
     ]
    }
   ],
   "source": [
    "!pip install matplotlib"
   ]
  },
  {
   "cell_type": "code",
   "execution_count": 25,
   "id": "41f4144c-2634-4ef9-abe3-c3c6d956fc13",
   "metadata": {},
   "outputs": [
    {
     "data": {
      "text/plain": [
       "is_fraud\n",
       "1    5628\n",
       "0    4372\n",
       "Name: count, dtype: int64"
      ]
     },
     "execution_count": 25,
     "metadata": {},
     "output_type": "execute_result"
    }
   ],
   "source": [
    "import matplotlib.pyplot as plt\n",
    "df['is_fraud'].value_counts()"
   ]
  },
  {
   "cell_type": "code",
   "execution_count": 28,
   "id": "0f6cdde5-d57f-44a2-af7e-7b3aa1ae41d5",
   "metadata": {},
   "outputs": [
    {
     "data": {
      "image/png": "[encoded data removed]",
      "text/plain": [
       "<Figure size 640x480 with 1 Axes>"
      ]
     },
     "metadata": {},
     "output_type": "display_data"
    }
   ],
   "source": [
    "plt.title(\"Fraud vs Not Fraud Distribution\")\n",
    "plt.pie(df['is_fraud'].value_counts(),labels=['Fraud','Not Fraud'], autopct=\"%0.2f\")\n",
    "plt.show()"
   ]
  },
  {
   "cell_type": "code",
   "execution_count": 29,
   "id": "487e4b25-5c9b-4095-8199-2a13f34bd5fe",
   "metadata": {},
   "outputs": [
    {
     "data": {
      "text/plain": [
       "Index(['transaction_id', 'user_id', 'amount', 'transaction_type',\n",
       "       'device_type', 'location', 'time_of_day', 'transaction_hour',\n",
       "       'is_international', 'previous_transactions', 'failed_transactions',\n",
       "       'account_age_days', 'is_fraud'],\n",
       "      dtype='object')"
      ]
     },
     "execution_count": 29,
     "metadata": {},
     "output_type": "execute_result"
    }
   ],
   "source": [
    "df.columns"
   ]
  },
  {
   "cell_type": "code",
   "execution_count": 30,
   "id": "97c96f7c-d4c7-4d32-9cf8-6ecbab30ac00",
   "metadata": {},
   "outputs": [
    {
     "data": {
      "text/plain": [
       "['transaction_id',\n",
       " 'user_id',\n",
       " 'amount',\n",
       " 'transaction_type',\n",
       " 'device_type',\n",
       " 'location',\n",
       " 'time_of_day',\n",
       " 'transaction_hour',\n",
       " 'is_international',\n",
       " 'previous_transactions',\n",
       " 'failed_transactions',\n",
       " 'account_age_days',\n",
       " 'is_fraud']"
      ]
     },
     "execution_count": 30,
     "metadata": {},
     "output_type": "execute_result"
    }
   ],
   "source": [
    "list(df.columns)"
   ]
  },
  {
   "cell_type": "code",
   "execution_count": 31,
   "id": "2daa43ba-c951-4e89-a72f-ca58d1d1b4cb",
   "metadata": {},
   "outputs": [
    {
     "name": "stdout",
     "output_type": "stream",
     "text": [
      "Requirement already satisfied: seaborn in /home/kaka/my-jupyter-env/lib/python3.12/site-packages (0.13.2)\n",
      "Requirement already satisfied: numpy!=1.24.0,>=1.20 in /home/kaka/my-jupyter-env/lib/python3.12/site-packages (from seaborn) (2.3.4)\n",
      "Requirement already satisfied: pandas>=1.2 in /home/kaka/my-jupyter-env/lib/python3.12/site-packages (from seaborn) (2.3.3)\n",
      "Requirement already satisfied: matplotlib!=3.6.1,>=3.4 in /home/kaka/my-jupyter-env/lib/python3.12/site-packages (from seaborn) (3.10.7)\n",
      "Requirement already satisfied: contourpy>=1.0.1 in /home/kaka/my-jupyter-env/lib/python3.12/site-packages (from matplotlib!=3.6.1,>=3.4->seaborn) (1.3.3)\n",
      "Requirement already satisfied: cycler>=0.10 in /home/kaka/my-jupyter-env/lib/python3.12/site-packages (from matplotlib!=3.6.1,>=3.4->seaborn) (0.12.1)\n",
      "Requirement already satisfied: fonttools>=4.22.0 in /home/kaka/my-jupyter-env/lib/python3.12/site-packages (from matplotlib!=3.6.1,>=3.4->seaborn) (4.60.1)\n",
      "Requirement already satisfied: kiwisolver>=1.3.1 in /home/kaka/my-jupyter-env/lib/python3.12/site-packages (from matplotlib!=3.6.1,>=3.4->seaborn) (1.4.9)\n",
      "Requirement already satisfied: packaging>=20.0 in /home/kaka/my-jupyter-env/lib/python3.12/site-packages (from matplotlib!=3.6.1,>=3.4->seaborn) (25.0)\n",
      "Requirement already satisfied: pillow>=8 in /home/kaka/my-jupyter-env/lib/python3.12/site-packages (from matplotlib!=3.6.1,>=3.4->seaborn) (12.0.0)\n",
      "Requirement already satisfied: pyparsing>=3 in /home/kaka/my-jupyter-env/lib/python3.12/site-packages (from matplotlib!=3.6.1,>=3.4->seaborn) (3.2.5)\n",
      "Requirement already satisfied: python-dateutil>=2.7 in /home/kaka/my-jupyter-env/lib/python3.12/site-packages (from matplotlib!=3.6.1,>=3.4->seaborn) (2.9.0.post0)\n",
      "Requirement already satisfied: pytz>=2020.1 in /home/kaka/my-jupyter-env/lib/python3.12/site-packages (from pandas>=1.2->seaborn) (2025.2)\n",
      "Requirement already satisfied: tzdata>=2022.7 in /home/kaka/my-jupyter-env/lib/python3.12/site-packages (from pandas>=1.2->seaborn) (2025.2)\n",
      "Requirement already satisfied: six>=1.5 in /home/kaka/my-jupyter-env/lib/python3.12/site-packages (from python-dateutil>=2.7->matplotlib!=3.6.1,>=3.4->seaborn) (1.17.0)\n"
     ]
    }
   ],
   "source": [
    "!pip install seaborn\n",
    "import seaborn as sns"
   ]
  },
  {
   "cell_type": "code",
   "execution_count": 86,
   "id": "9bbc91b4-5061-45c7-b05e-43b285a32d10",
   "metadata": {},
   "outputs": [
    {
     "data": {
      "text/plain": [
       "<Axes: xlabel='transaction_hour', ylabel='Count'>"
      ]
     },
     "execution_count": 86,
     "metadata": {},
     "output_type": "execute_result"
    },
    {
     "data": {
      "image/png": "[encoded data removed]",
      "text/plain": [
       "<Figure size 700x500 with 1 Axes>"
      ]
     },
     "metadata": {},
     "output_type": "display_data"
    }
   ],
   "source": [
    "plt.figure(figsize = (7,5))\n",
    "plt.xticks(rotation='vertical')\n",
    "sns.histplot(df[df['is_fraud'] == 0]['transaction_hour'],color='blue')"
   ]
  },
  {
   "cell_type": "code",
   "execution_count": 87,
   "id": "3678b474-aa82-4641-b655-33bc49f64e05",
   "metadata": {},
   "outputs": [
    {
     "data": {
      "text/plain": [
       "<Axes: xlabel='transaction_hour', ylabel='Count'>"
      ]
     },
     "execution_count": 87,
     "metadata": {},
     "output_type": "execute_result"
    },
    {
     "data": {
      "image/png": "[encoded data removed]",
      "text/plain": [
       "<Figure size 700x500 with 1 Axes>"
      ]
     },
     "metadata": {},
     "output_type": "display_data"
    }
   ],
   "source": [
    "plt.figure(figsize = (7,5))\n",
    "plt.xticks(rotation='vertical')\n",
    "sns.histplot(df[df['is_fraud'] == 1]['transaction_hour'],color='red')"
   ]
  },
  {
   "cell_type": "code",
   "execution_count": 82,
   "id": "27b8e75e-cbc2-4ef0-83c2-098025647201",
   "metadata": {},
   "outputs": [
    {
     "data": {
      "text/plain": [
       "<Axes: xlabel='location', ylabel='Count'>"
      ]
     },
     "execution_count": 82,
     "metadata": {},
     "output_type": "execute_result"
    },
    {
     "data": {
      "image/png": "[encoded data removed]",
      "text/plain": [
       "<Figure size 400x600 with 1 Axes>"
      ]
     },
     "metadata": {},
     "output_type": "display_data"
    }
   ],
   "source": [
    "plt.figure(figsize = (4,6))\n",
    "plt.xticks(rotation='vertical')\n",
    "sns.histplot(df[df['is_fraud'] == 0]['location'],color='blue')"
   ]
  },
  {
   "cell_type": "code",
   "execution_count": 81,
   "id": "bd8af1d9-2c20-44e1-8a10-d38c2ba58583",
   "metadata": {},
   "outputs": [
    {
     "data": {
      "text/plain": [
       "<Axes: xlabel='location', ylabel='Count'>"
      ]
     },
     "execution_count": 81,
     "metadata": {},
     "output_type": "execute_result"
    },
    {
     "data": {
      "image/png": "[encoded data removed]",
      "text/plain": [
       "<Figure size 400x600 with 1 Axes>"
      ]
     },
     "metadata": {},
     "output_type": "display_data"
    }
   ],
   "source": [
    "plt.figure(figsize = (4,6))\n",
    "plt.xticks(rotation='vertical')\n",
    "sns.histplot(df[df['is_fraud'] == 1]['location'],color='red')"
   ]
  },
  {
   "cell_type": "code",
   "execution_count": 114,
   "id": "8ddf1d81-3fcc-4bb1-bd27-8e8ad504f51e",
   "metadata": {},
   "outputs": [
    {
     "data": {
      "text/html": [
       "<div>\n",
       "<style scoped>\n",
       "    .dataframe tbody tr th:only-of-type {\n",
       "        vertical-align: middle;\n",
       "    }\n",
       "\n",
       "    .dataframe tbody tr th {\n",
       "        vertical-align: top;\n",
       "    }\n",
       "\n",
       "    .dataframe thead th {\n",
       "        text-align: right;\n",
       "    }\n",
       "</style>\n",
       "<table border=\"1\" class=\"dataframe\">\n",
       "  <thead>\n",
       "    <tr style=\"text-align: right;\">\n",
       "      <th></th>\n",
       "      <th>amount</th>\n",
       "      <th>transaction_hour</th>\n",
       "      <th>is_fraud</th>\n",
       "    </tr>\n",
       "  </thead>\n",
       "  <tbody>\n",
       "    <tr>\n",
       "      <th>1</th>\n",
       "      <td>104351.51</td>\n",
       "      <td>1</td>\n",
       "      <td>1</td>\n",
       "    </tr>\n",
       "    <tr>\n",
       "      <th>2</th>\n",
       "      <td>211864.52</td>\n",
       "      <td>13</td>\n",
       "      <td>1</td>\n",
       "    </tr>\n",
       "    <tr>\n",
       "      <th>3</th>\n",
       "      <td>280370.03</td>\n",
       "      <td>15</td>\n",
       "      <td>1</td>\n",
       "    </tr>\n",
       "    <tr>\n",
       "      <th>7</th>\n",
       "      <td>79802.98</td>\n",
       "      <td>19</td>\n",
       "      <td>1</td>\n",
       "    </tr>\n",
       "    <tr>\n",
       "      <th>10</th>\n",
       "      <td>211166.34</td>\n",
       "      <td>21</td>\n",
       "      <td>1</td>\n",
       "    </tr>\n",
       "    <tr>\n",
       "      <th>...</th>\n",
       "      <td>...</td>\n",
       "      <td>...</td>\n",
       "      <td>...</td>\n",
       "    </tr>\n",
       "    <tr>\n",
       "      <th>9991</th>\n",
       "      <td>224192.10</td>\n",
       "      <td>8</td>\n",
       "      <td>1</td>\n",
       "    </tr>\n",
       "    <tr>\n",
       "      <th>9992</th>\n",
       "      <td>9706.03</td>\n",
       "      <td>3</td>\n",
       "      <td>1</td>\n",
       "    </tr>\n",
       "    <tr>\n",
       "      <th>9995</th>\n",
       "      <td>118355.73</td>\n",
       "      <td>23</td>\n",
       "      <td>1</td>\n",
       "    </tr>\n",
       "    <tr>\n",
       "      <th>9996</th>\n",
       "      <td>126545.76</td>\n",
       "      <td>6</td>\n",
       "      <td>1</td>\n",
       "    </tr>\n",
       "    <tr>\n",
       "      <th>9999</th>\n",
       "      <td>227924.83</td>\n",
       "      <td>1</td>\n",
       "      <td>1</td>\n",
       "    </tr>\n",
       "  </tbody>\n",
       "</table>\n",
       "<p>5628 rows × 3 columns</p>\n",
       "</div>"
      ],
      "text/plain": [
       "         amount  transaction_hour  is_fraud\n",
       "1     104351.51                 1         1\n",
       "2     211864.52                13         1\n",
       "3     280370.03                15         1\n",
       "7      79802.98                19         1\n",
       "10    211166.34                21         1\n",
       "...         ...               ...       ...\n",
       "9991  224192.10                 8         1\n",
       "9992    9706.03                 3         1\n",
       "9995  118355.73                23         1\n",
       "9996  126545.76                 6         1\n",
       "9999  227924.83                 1         1\n",
       "\n",
       "[5628 rows x 3 columns]"
      ]
     },
     "execution_count": 114,
     "metadata": {},
     "output_type": "execute_result"
    }
   ],
   "source": [
    "fraud_df = df[df['is_fraud'] == 1] #Filters only fraud hours\n",
    "fraud_df[['amount','transaction_hour','is_fraud']]"
   ]
  },
  {
   "cell_type": "code",
   "execution_count": 116,
   "id": "9a3c5b92-dd7c-466a-95a2-a471f3695f55",
   "metadata": {},
   "outputs": [
    {
     "data": {
      "text/html": [
       "<div>\n",
       "<style scoped>\n",
       "    .dataframe tbody tr th:only-of-type {\n",
       "        vertical-align: middle;\n",
       "    }\n",
       "\n",
       "    .dataframe tbody tr th {\n",
       "        vertical-align: top;\n",
       "    }\n",
       "\n",
       "    .dataframe thead th {\n",
       "        text-align: right;\n",
       "    }\n",
       "</style>\n",
       "<table border=\"1\" class=\"dataframe\">\n",
       "  <thead>\n",
       "    <tr style=\"text-align: right;\">\n",
       "      <th></th>\n",
       "      <th>amount</th>\n",
       "      <th>transaction_hour</th>\n",
       "      <th>is_fraud</th>\n",
       "    </tr>\n",
       "  </thead>\n",
       "  <tbody>\n",
       "    <tr>\n",
       "      <th>0</th>\n",
       "      <td>43574.75</td>\n",
       "      <td>9</td>\n",
       "      <td>0</td>\n",
       "    </tr>\n",
       "    <tr>\n",
       "      <th>4</th>\n",
       "      <td>216222.76</td>\n",
       "      <td>17</td>\n",
       "      <td>0</td>\n",
       "    </tr>\n",
       "    <tr>\n",
       "      <th>5</th>\n",
       "      <td>156210.96</td>\n",
       "      <td>15</td>\n",
       "      <td>0</td>\n",
       "    </tr>\n",
       "    <tr>\n",
       "      <th>6</th>\n",
       "      <td>139215.46</td>\n",
       "      <td>4</td>\n",
       "      <td>0</td>\n",
       "    </tr>\n",
       "    <tr>\n",
       "      <th>8</th>\n",
       "      <td>60807.93</td>\n",
       "      <td>10</td>\n",
       "      <td>0</td>\n",
       "    </tr>\n",
       "    <tr>\n",
       "      <th>...</th>\n",
       "      <td>...</td>\n",
       "      <td>...</td>\n",
       "      <td>...</td>\n",
       "    </tr>\n",
       "    <tr>\n",
       "      <th>9989</th>\n",
       "      <td>22519.77</td>\n",
       "      <td>1</td>\n",
       "      <td>0</td>\n",
       "    </tr>\n",
       "    <tr>\n",
       "      <th>9993</th>\n",
       "      <td>5291.13</td>\n",
       "      <td>12</td>\n",
       "      <td>0</td>\n",
       "    </tr>\n",
       "    <tr>\n",
       "      <th>9994</th>\n",
       "      <td>221462.31</td>\n",
       "      <td>15</td>\n",
       "      <td>0</td>\n",
       "    </tr>\n",
       "    <tr>\n",
       "      <th>9997</th>\n",
       "      <td>8905.02</td>\n",
       "      <td>23</td>\n",
       "      <td>0</td>\n",
       "    </tr>\n",
       "    <tr>\n",
       "      <th>9998</th>\n",
       "      <td>81748.84</td>\n",
       "      <td>16</td>\n",
       "      <td>0</td>\n",
       "    </tr>\n",
       "  </tbody>\n",
       "</table>\n",
       "<p>4372 rows × 3 columns</p>\n",
       "</div>"
      ],
      "text/plain": [
       "         amount  transaction_hour  is_fraud\n",
       "0      43574.75                 9         0\n",
       "4     216222.76                17         0\n",
       "5     156210.96                15         0\n",
       "6     139215.46                 4         0\n",
       "8      60807.93                10         0\n",
       "...         ...               ...       ...\n",
       "9989   22519.77                 1         0\n",
       "9993    5291.13                12         0\n",
       "9994  221462.31                15         0\n",
       "9997    8905.02                23         0\n",
       "9998   81748.84                16         0\n",
       "\n",
       "[4372 rows x 3 columns]"
      ]
     },
     "execution_count": 116,
     "metadata": {},
     "output_type": "execute_result"
    }
   ],
   "source": [
    "fraud_df_1 = df[df['is_fraud'] == 0] #Filters only Non-Fraud hours\n",
    "fraud_df_1[['amount','transaction_hour','is_fraud']]"
   ]
  },
  {
   "cell_type": "code",
   "execution_count": 117,
   "id": "d37bed16-517f-4ef8-9fd3-216612fbadae",
   "metadata": {},
   "outputs": [
    {
     "data": {
      "text/html": [
       "<div>\n",
       "<style scoped>\n",
       "    .dataframe tbody tr th:only-of-type {\n",
       "        vertical-align: middle;\n",
       "    }\n",
       "\n",
       "    .dataframe tbody tr th {\n",
       "        vertical-align: top;\n",
       "    }\n",
       "\n",
       "    .dataframe thead th {\n",
       "        text-align: right;\n",
       "    }\n",
       "</style>\n",
       "<table border=\"1\" class=\"dataframe\">\n",
       "  <thead>\n",
       "    <tr style=\"text-align: right;\">\n",
       "      <th></th>\n",
       "      <th>Transaction-Hour</th>\n",
       "      <th>No. of Transactions</th>\n",
       "    </tr>\n",
       "  </thead>\n",
       "  <tbody>\n",
       "    <tr>\n",
       "      <th>0</th>\n",
       "      <td>20</td>\n",
       "      <td>218</td>\n",
       "    </tr>\n",
       "    <tr>\n",
       "      <th>1</th>\n",
       "      <td>7</td>\n",
       "      <td>216</td>\n",
       "    </tr>\n",
       "    <tr>\n",
       "      <th>2</th>\n",
       "      <td>22</td>\n",
       "      <td>202</td>\n",
       "    </tr>\n",
       "    <tr>\n",
       "      <th>3</th>\n",
       "      <td>16</td>\n",
       "      <td>200</td>\n",
       "    </tr>\n",
       "    <tr>\n",
       "      <th>4</th>\n",
       "      <td>11</td>\n",
       "      <td>198</td>\n",
       "    </tr>\n",
       "    <tr>\n",
       "      <th>5</th>\n",
       "      <td>6</td>\n",
       "      <td>196</td>\n",
       "    </tr>\n",
       "    <tr>\n",
       "      <th>6</th>\n",
       "      <td>10</td>\n",
       "      <td>193</td>\n",
       "    </tr>\n",
       "    <tr>\n",
       "      <th>7</th>\n",
       "      <td>5</td>\n",
       "      <td>193</td>\n",
       "    </tr>\n",
       "    <tr>\n",
       "      <th>8</th>\n",
       "      <td>18</td>\n",
       "      <td>190</td>\n",
       "    </tr>\n",
       "    <tr>\n",
       "      <th>9</th>\n",
       "      <td>12</td>\n",
       "      <td>190</td>\n",
       "    </tr>\n",
       "  </tbody>\n",
       "</table>\n",
       "</div>"
      ],
      "text/plain": [
       "   Transaction-Hour  No. of Transactions\n",
       "0                20                  218\n",
       "1                 7                  216\n",
       "2                22                  202\n",
       "3                16                  200\n",
       "4                11                  198\n",
       "5                 6                  196\n",
       "6                10                  193\n",
       "7                 5                  193\n",
       "8                18                  190\n",
       "9                12                  190"
      ]
     },
     "execution_count": 117,
     "metadata": {},
     "output_type": "execute_result"
    }
   ],
   "source": [
    "top_hours_1 = (\n",
    "    fraud_df_1['transaction_hour'].\n",
    "        value_counts().\n",
    "        sort_values(ascending=False).\n",
    "        head(10)\n",
    ")\n",
    "l1 = list(map(int,top_hours_1.index))\n",
    "l2 = list(map(int,top_hours_1.values))\n",
    "\n",
    "Final_Top_Hours_1 = pd.DataFrame({\n",
    "    'Transaction-Hour': l1,\n",
    "    'No. of Transactions': l2\n",
    "})\n",
    "\n",
    "Final_Top_Hours_1"
   ]
  },
  {
   "cell_type": "code",
   "execution_count": 122,
   "id": "2f0f67ad-15a8-4f0c-bff9-f12e9f6aa373",
   "metadata": {},
   "outputs": [
    {
     "data": {
      "text/plain": [
       "Text(0, 0.5, 'No. of Transactions')"
      ]
     },
     "execution_count": 122,
     "metadata": {},
     "output_type": "execute_result"
    },
    {
     "data": {
      "image/png": "[encoded data removed]",
      "text/plain": [
       "<Figure size 600x600 with 1 Axes>"
      ]
     },
     "metadata": {},
     "output_type": "display_data"
    }
   ],
   "source": [
    "plt.figure(figsize=(6,6))\n",
    "sns.barplot(x='Transaction-Hour', y='No. of Transactions', data = Final_Top_Hours_1)\n",
    "plt.title('Top 10 Transaction Hour vs. No. of Non-Fraud Transactions')\n",
    "plt.xlabel('Hour of The Day(0-23)')\n",
    "plt.ylabel('No. of Transactions')"
   ]
  },
  {
   "cell_type": "code",
   "execution_count": 130,
   "id": "a99b77d1-cabc-44f8-906f-068ca9a4073a",
   "metadata": {},
   "outputs": [
    {
     "data": {
      "text/html": [
       "<div>\n",
       "<style scoped>\n",
       "    .dataframe tbody tr th:only-of-type {\n",
       "        vertical-align: middle;\n",
       "    }\n",
       "\n",
       "    .dataframe tbody tr th {\n",
       "        vertical-align: top;\n",
       "    }\n",
       "\n",
       "    .dataframe thead th {\n",
       "        text-align: right;\n",
       "    }\n",
       "</style>\n",
       "<table border=\"1\" class=\"dataframe\">\n",
       "  <thead>\n",
       "    <tr style=\"text-align: right;\">\n",
       "      <th></th>\n",
       "      <th>Transaction-Hour</th>\n",
       "      <th>No. of Transactions</th>\n",
       "    </tr>\n",
       "  </thead>\n",
       "  <tbody>\n",
       "    <tr>\n",
       "      <th>0</th>\n",
       "      <td>0</td>\n",
       "      <td>127</td>\n",
       "    </tr>\n",
       "    <tr>\n",
       "      <th>1</th>\n",
       "      <td>1</td>\n",
       "      <td>135</td>\n",
       "    </tr>\n",
       "    <tr>\n",
       "      <th>2</th>\n",
       "      <td>3</td>\n",
       "      <td>146</td>\n",
       "    </tr>\n",
       "    <tr>\n",
       "      <th>3</th>\n",
       "      <td>2</td>\n",
       "      <td>149</td>\n",
       "    </tr>\n",
       "    <tr>\n",
       "      <th>4</th>\n",
       "      <td>9</td>\n",
       "      <td>159</td>\n",
       "    </tr>\n",
       "  </tbody>\n",
       "</table>\n",
       "</div>"
      ],
      "text/plain": [
       "   Transaction-Hour  No. of Transactions\n",
       "0                 0                  127\n",
       "1                 1                  135\n",
       "2                 3                  146\n",
       "3                 2                  149\n",
       "4                 9                  159"
      ]
     },
     "execution_count": 130,
     "metadata": {},
     "output_type": "execute_result"
    }
   ],
   "source": [
    "top_hours_1_rev = (\n",
    "    fraud_df_1['transaction_hour'].\n",
    "        value_counts().\n",
    "        sort_values(ascending=True).\n",
    "        head(5)\n",
    ")\n",
    "l1 = list(map(int,top_hours_1_rev.index))\n",
    "l2 = list(map(int,top_hours_1_rev.values))\n",
    "\n",
    "Final_Top_Hours_1_rev = pd.DataFrame({\n",
    "    'Transaction-Hour': l1,\n",
    "    'No. of Transactions': l2\n",
    "})\n",
    "\n",
    "Final_Top_Hours_1_rev"
   ]
  },
  {
   "cell_type": "code",
   "execution_count": 132,
   "id": "567aab22-407e-4b0b-9d12-cf3bad5f8154",
   "metadata": {},
   "outputs": [
    {
     "data": {
      "text/plain": [
       "Text(0, 0.5, 'No. of Transactions')"
      ]
     },
     "execution_count": 132,
     "metadata": {},
     "output_type": "execute_result"
    },
    {
     "data": {
      "image/png": "[encoded data removed]",
      "text/plain": [
       "<Figure size 300x300 with 1 Axes>"
      ]
     },
     "metadata": {},
     "output_type": "display_data"
    }
   ],
   "source": [
    "plt.figure(figsize=(3,3))\n",
    "sns.barplot(x='Transaction-Hour', y='No. of Transactions', data = Final_Top_Hours_1_rev)\n",
    "plt.title('Last 5 Transaction Hour vs. No. of Non-Fraud Transactions')\n",
    "plt.xlabel('Hour of The Day(0-23)')\n",
    "plt.ylabel('No. of Transactions')"
   ]
  },
  {
   "cell_type": "code",
   "execution_count": 115,
   "id": "60f0f347-af3c-4fe8-9a63-8fd2efc4e89c",
   "metadata": {},
   "outputs": [
    {
     "name": "stdout",
     "output_type": "stream",
     "text": [
      "   Transaction-Hour  No. of Transactions\n",
      "0                 2                  286\n",
      "1                 3                  275\n",
      "2                 1                  257\n",
      "3                 0                  256\n",
      "4                19                  254\n",
      "5                20                  243\n",
      "6                14                  242\n",
      "7                15                  240\n",
      "8                 5                  239\n",
      "9                18                  233\n"
     ]
    }
   ],
   "source": [
    "top_hours = (\n",
    "    fraud_df['transaction_hour'].\n",
    "        value_counts().\n",
    "        sort_values(ascending=False).\n",
    "        head(10)\n",
    ")\n",
    "l1 = list(map(int,top_hours.index))\n",
    "l2 = list(map(int,top_hours.values))\n",
    "Final_Top_Hours = pd.DataFrame({\n",
    "    'Transaction-Hour': l1,\n",
    "    'No. of Transactions': l2\n",
    "})\n",
    "print(Final_Top_Hours)"
   ]
  },
  {
   "cell_type": "code",
   "execution_count": 121,
   "id": "64d44a80-8d04-4854-a3a6-29bdae21bc33",
   "metadata": {},
   "outputs": [
    {
     "data": {
      "text/plain": [
       "Text(0, 0.5, 'No. of Transactions')"
      ]
     },
     "execution_count": 121,
     "metadata": {},
     "output_type": "execute_result"
    },
    {
     "data": {
      "image/png": "[encoded data removed]",
      "text/plain": [
       "<Figure size 600x600 with 1 Axes>"
      ]
     },
     "metadata": {},
     "output_type": "display_data"
    }
   ],
   "source": [
    "plt.figure(figsize=(6,6))\n",
    "sns.barplot(x='Transaction-Hour', y='No. of Transactions', data = Final_Top_Hours)\n",
    "plt.title('Top 10 Transaction Hour vs. No. of Fraud Transactions')\n",
    "plt.xlabel('Hour of The Day(0-23)')\n",
    "plt.ylabel('No. of Transactions')"
   ]
  },
  {
   "cell_type": "code",
   "execution_count": 124,
   "id": "3de5a0e2-c767-436a-a5cc-1dcaf11debd0",
   "metadata": {},
   "outputs": [
    {
     "name": "stdout",
     "output_type": "stream",
     "text": [
      "   Transaction-Hour  No. of Transactions\n",
      "0                22                  205\n",
      "1                12                  214\n",
      "2                 8                  215\n",
      "3                21                  216\n",
      "4                 6                  217\n"
     ]
    }
   ],
   "source": [
    "top_hours_rev = (\n",
    "    fraud_df['transaction_hour'].\n",
    "        value_counts().\n",
    "        sort_values(ascending=True).\n",
    "        head(5)\n",
    ")\n",
    "l1 = list(map(int,top_hours_rev.index))\n",
    "l2 = list(map(int,top_hours_rev.values))\n",
    "Final_Top_Hours_rev = pd.DataFrame({\n",
    "    'Transaction-Hour': l1,\n",
    "    'No. of Transactions': l2\n",
    "})\n",
    "print(Final_Top_Hours_rev)"
   ]
  },
  {
   "cell_type": "code",
   "execution_count": 129,
   "id": "3c9eb3a0-3fc0-4ce5-b838-2ddd7772e9fb",
   "metadata": {},
   "outputs": [
    {
     "data": {
      "text/plain": [
       "Text(0, 0.5, 'No. of Transactions')"
      ]
     },
     "execution_count": 129,
     "metadata": {},
     "output_type": "execute_result"
    },
    {
     "data": {
      "image/png": "[encoded data removed]",
      "text/plain": [
       "<Figure size 300x300 with 1 Axes>"
      ]
     },
     "metadata": {},
     "output_type": "display_data"
    }
   ],
   "source": [
    "plt.figure(figsize=(3,3))\n",
    "sns.barplot(x='Transaction-Hour', y='No. of Transactions', data = Final_Top_Hours_rev)\n",
    "plt.title('Last 5 Transaction Hour vs. No. of Fraud Transactions')\n",
    "plt.xlabel('Hour of The Day(0-23)')\n",
    "plt.ylabel('No. of Transactions')"
   ]
  },
  {
   "cell_type": "code",
   "execution_count": 133,
   "id": "55cefd54-6d3c-40d2-9e06-a88dfadd2d33",
   "metadata": {},
   "outputs": [],
   "source": [
    "#Model Building"
   ]
  }
 ],
 "metadata": {
  "kernelspec": {
   "display_name": "Python 3 (ipykernel)",
   "language": "python",
   "name": "python3"
  },
  "language_info": {
   "codemirror_mode": {
    "name": "ipython",
    "version": 3
   },
   "file_extension": ".py",
   "mimetype": "text/x-python",
   "name": "python",
   "nbconvert_exporter": "python",
   "pygments_lexer": "ipython3",
   "version": "3.12.3"
  }
 },
 "nbformat": 4,
 "nbformat_minor": 5
}

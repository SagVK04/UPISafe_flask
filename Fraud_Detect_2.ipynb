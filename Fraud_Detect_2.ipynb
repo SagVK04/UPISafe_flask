{
 "cells": [
  {
   "cell_type": "code",
   "execution_count": 383,
   "id": "0363126c-f1da-49ea-9ae5-ba51ba419315",
   "metadata": {},
   "outputs": [
    {
     "name": "stdout",
     "output_type": "stream",
     "text": [
      "Requirement already satisfied: pandas in /home/kaka/my-jupyter-env/lib/python3.12/site-packages (2.3.3)\n",
      "Requirement already satisfied: numpy>=1.26.0 in /home/kaka/my-jupyter-env/lib/python3.12/site-packages (from pandas) (2.3.4)\n",
      "Requirement already satisfied: python-dateutil>=2.8.2 in /home/kaka/my-jupyter-env/lib/python3.12/site-packages (from pandas) (2.9.0.post0)\n",
      "Requirement already satisfied: pytz>=2020.1 in /home/kaka/my-jupyter-env/lib/python3.12/site-packages (from pandas) (2025.2)\n",
      "Requirement already satisfied: tzdata>=2022.7 in /home/kaka/my-jupyter-env/lib/python3.12/site-packages (from pandas) (2025.2)\n",
      "Requirement already satisfied: six>=1.5 in /home/kaka/my-jupyter-env/lib/python3.12/site-packages (from python-dateutil>=2.8.2->pandas) (1.17.0)\n",
      "Requirement already satisfied: scikit-learn in /home/kaka/my-jupyter-env/lib/python3.12/site-packages (1.7.2)\n",
      "Requirement already satisfied: numpy>=1.22.0 in /home/kaka/my-jupyter-env/lib/python3.12/site-packages (from scikit-learn) (2.3.4)\n",
      "Requirement already satisfied: scipy>=1.8.0 in /home/kaka/my-jupyter-env/lib/python3.12/site-packages (from scikit-learn) (1.16.2)\n",
      "Requirement already satisfied: joblib>=1.2.0 in /home/kaka/my-jupyter-env/lib/python3.12/site-packages (from scikit-learn) (1.5.2)\n",
      "Requirement already satisfied: threadpoolctl>=3.1.0 in /home/kaka/my-jupyter-env/lib/python3.12/site-packages (from scikit-learn) (3.6.0)\n"
     ]
    }
   ],
   "source": [
    "!pip install pandas\n",
    "!pip install scikit-learn"
   ]
  },
  {
   "cell_type": "code",
   "execution_count": 384,
   "id": "eda2795b-ef23-4df1-a65c-9b0de2c0f9c8",
   "metadata": {},
   "outputs": [],
   "source": [
    "import pandas as pd\n",
    "from sklearn.neighbors import KNeighborsClassifier"
   ]
  },
  {
   "cell_type": "code",
   "execution_count": 385,
   "id": "de5399c4-a0b8-4610-8a0d-1bbd894f2db4",
   "metadata": {},
   "outputs": [],
   "source": [
    "df = pd.read_csv(\"bank_transactions_data_2.csv\")"
   ]
  },
  {
   "cell_type": "code",
   "execution_count": 386,
   "id": "a734c438-531a-4c16-91ba-5ecb253105a7",
   "metadata": {},
   "outputs": [
    {
     "name": "stdout",
     "output_type": "stream",
     "text": [
      "(10000, 15)\n"
     ]
    }
   ],
   "source": [
    "print(df.shape)"
   ]
  },
  {
   "cell_type": "code",
   "execution_count": 387,
   "id": "1e51b938-d581-4695-8a4e-e2fc840ab5c8",
   "metadata": {},
   "outputs": [
    {
     "name": "stdout",
     "output_type": "stream",
     "text": [
      "0\n"
     ]
    }
   ],
   "source": [
    "print(df.duplicated().sum())"
   ]
  },
  {
   "cell_type": "code",
   "execution_count": 388,
   "id": "0e07d5c8-65b6-4852-ad5c-06f0593f9fa7",
   "metadata": {},
   "outputs": [
    {
     "data": {
      "text/html": [
       "<div>\n",
       "<style scoped>\n",
       "    .dataframe tbody tr th:only-of-type {\n",
       "        vertical-align: middle;\n",
       "    }\n",
       "\n",
       "    .dataframe tbody tr th {\n",
       "        vertical-align: top;\n",
       "    }\n",
       "\n",
       "    .dataframe thead th {\n",
       "        text-align: right;\n",
       "    }\n",
       "</style>\n",
       "<table border=\"1\" class=\"dataframe\">\n",
       "  <thead>\n",
       "    <tr style=\"text-align: right;\">\n",
       "      <th></th>\n",
       "      <th>transaction_id</th>\n",
       "      <th>user_id</th>\n",
       "      <th>amount</th>\n",
       "      <th>transaction_type</th>\n",
       "      <th>device_type</th>\n",
       "      <th>location</th>\n",
       "      <th>time_of_day</th>\n",
       "      <th>transaction_hour</th>\n",
       "      <th>is_international</th>\n",
       "      <th>previous_transactions</th>\n",
       "      <th>failed_transactions</th>\n",
       "      <th>account_age_days</th>\n",
       "      <th>is_fraud</th>\n",
       "      <th>Date</th>\n",
       "      <th>Transaction Platform</th>\n",
       "    </tr>\n",
       "  </thead>\n",
       "  <tbody>\n",
       "    <tr>\n",
       "      <th>0</th>\n",
       "      <td>T00001</td>\n",
       "      <td>U255</td>\n",
       "      <td>43574.75</td>\n",
       "      <td>online</td>\n",
       "      <td>tablet</td>\n",
       "      <td>Singapore</td>\n",
       "      <td>morning</td>\n",
       "      <td>9</td>\n",
       "      <td>1</td>\n",
       "      <td>115</td>\n",
       "      <td>3</td>\n",
       "      <td>35</td>\n",
       "      <td>0</td>\n",
       "      <td>04/09/2017</td>\n",
       "      <td>PhonePe</td>\n",
       "    </tr>\n",
       "    <tr>\n",
       "      <th>1</th>\n",
       "      <td>T00002</td>\n",
       "      <td>U661</td>\n",
       "      <td>104351.51</td>\n",
       "      <td>online</td>\n",
       "      <td>desktop</td>\n",
       "      <td>Singapore</td>\n",
       "      <td>night</td>\n",
       "      <td>1</td>\n",
       "      <td>1</td>\n",
       "      <td>15</td>\n",
       "      <td>4</td>\n",
       "      <td>598</td>\n",
       "      <td>1</td>\n",
       "      <td>18/02/2020</td>\n",
       "      <td>GPay</td>\n",
       "    </tr>\n",
       "    <tr>\n",
       "      <th>2</th>\n",
       "      <td>T00003</td>\n",
       "      <td>U325</td>\n",
       "      <td>211864.52</td>\n",
       "      <td>POS</td>\n",
       "      <td>tablet</td>\n",
       "      <td>Dubai</td>\n",
       "      <td>afternoon</td>\n",
       "      <td>13</td>\n",
       "      <td>1</td>\n",
       "      <td>135</td>\n",
       "      <td>10</td>\n",
       "      <td>550</td>\n",
       "      <td>1</td>\n",
       "      <td>29/05/2020</td>\n",
       "      <td>BharatPe</td>\n",
       "    </tr>\n",
       "    <tr>\n",
       "      <th>3</th>\n",
       "      <td>T00004</td>\n",
       "      <td>U327</td>\n",
       "      <td>280370.03</td>\n",
       "      <td>online</td>\n",
       "      <td>tablet</td>\n",
       "      <td>Kolkata</td>\n",
       "      <td>afternoon</td>\n",
       "      <td>15</td>\n",
       "      <td>0</td>\n",
       "      <td>129</td>\n",
       "      <td>10</td>\n",
       "      <td>42</td>\n",
       "      <td>1</td>\n",
       "      <td>18/07/2022</td>\n",
       "      <td>GPay</td>\n",
       "    </tr>\n",
       "    <tr>\n",
       "      <th>4</th>\n",
       "      <td>T00005</td>\n",
       "      <td>U143</td>\n",
       "      <td>216222.76</td>\n",
       "      <td>online</td>\n",
       "      <td>desktop</td>\n",
       "      <td>Delhi</td>\n",
       "      <td>evening</td>\n",
       "      <td>17</td>\n",
       "      <td>0</td>\n",
       "      <td>11</td>\n",
       "      <td>1</td>\n",
       "      <td>791</td>\n",
       "      <td>0</td>\n",
       "      <td>05/07/2021</td>\n",
       "      <td>BharatPe</td>\n",
       "    </tr>\n",
       "  </tbody>\n",
       "</table>\n",
       "</div>"
      ],
      "text/plain": [
       "  transaction_id user_id     amount transaction_type device_type   location  \\\n",
       "0         T00001    U255   43574.75           online      tablet  Singapore   \n",
       "1         T00002    U661  104351.51           online     desktop  Singapore   \n",
       "2         T00003    U325  211864.52              POS      tablet      Dubai   \n",
       "3         T00004    U327  280370.03           online      tablet    Kolkata   \n",
       "4         T00005    U143  216222.76           online     desktop      Delhi   \n",
       "\n",
       "  time_of_day  transaction_hour  is_international  previous_transactions  \\\n",
       "0     morning                 9                 1                    115   \n",
       "1       night                 1                 1                     15   \n",
       "2   afternoon                13                 1                    135   \n",
       "3   afternoon                15                 0                    129   \n",
       "4     evening                17                 0                     11   \n",
       "\n",
       "   failed_transactions  account_age_days  is_fraud        Date  \\\n",
       "0                    3                35         0  04/09/2017   \n",
       "1                    4               598         1  18/02/2020   \n",
       "2                   10               550         1  29/05/2020   \n",
       "3                   10                42         1  18/07/2022   \n",
       "4                    1               791         0  05/07/2021   \n",
       "\n",
       "  Transaction Platform  \n",
       "0              PhonePe  \n",
       "1                 GPay  \n",
       "2             BharatPe  \n",
       "3                 GPay  \n",
       "4             BharatPe  "
      ]
     },
     "execution_count": 388,
     "metadata": {},
     "output_type": "execute_result"
    }
   ],
   "source": [
    "df.head()"
   ]
  },
  {
   "cell_type": "code",
   "execution_count": 389,
   "id": "0f898e45-4107-4309-a086-97a5eba69d32",
   "metadata": {},
   "outputs": [
    {
     "name": "stdout",
     "output_type": "stream",
     "text": [
      "Requirement already satisfied: matplotlib in /home/kaka/my-jupyter-env/lib/python3.12/site-packages (3.10.7)\n",
      "Requirement already satisfied: contourpy>=1.0.1 in /home/kaka/my-jupyter-env/lib/python3.12/site-packages (from matplotlib) (1.3.3)\n",
      "Requirement already satisfied: cycler>=0.10 in /home/kaka/my-jupyter-env/lib/python3.12/site-packages (from matplotlib) (0.12.1)\n",
      "Requirement already satisfied: fonttools>=4.22.0 in /home/kaka/my-jupyter-env/lib/python3.12/site-packages (from matplotlib) (4.60.1)\n",
      "Requirement already satisfied: kiwisolver>=1.3.1 in /home/kaka/my-jupyter-env/lib/python3.12/site-packages (from matplotlib) (1.4.9)\n",
      "Requirement already satisfied: numpy>=1.23 in /home/kaka/my-jupyter-env/lib/python3.12/site-packages (from matplotlib) (2.3.4)\n",
      "Requirement already satisfied: packaging>=20.0 in /home/kaka/my-jupyter-env/lib/python3.12/site-packages (from matplotlib) (25.0)\n",
      "Requirement already satisfied: pillow>=8 in /home/kaka/my-jupyter-env/lib/python3.12/site-packages (from matplotlib) (12.0.0)\n",
      "Requirement already satisfied: pyparsing>=3 in /home/kaka/my-jupyter-env/lib/python3.12/site-packages (from matplotlib) (3.2.5)\n",
      "Requirement already satisfied: python-dateutil>=2.7 in /home/kaka/my-jupyter-env/lib/python3.12/site-packages (from matplotlib) (2.9.0.post0)\n",
      "Requirement already satisfied: six>=1.5 in /home/kaka/my-jupyter-env/lib/python3.12/site-packages (from python-dateutil>=2.7->matplotlib) (1.17.0)\n"
     ]
    }
   ],
   "source": [
    "!pip install matplotlib"
   ]
  },
  {
   "cell_type": "code",
   "execution_count": 390,
   "id": "41f4144c-2634-4ef9-abe3-c3c6d956fc13",
   "metadata": {},
   "outputs": [
    {
     "data": {
      "text/plain": [
       "is_fraud\n",
       "1    5628\n",
       "0    4372\n",
       "Name: count, dtype: int64"
      ]
     },
     "execution_count": 390,
     "metadata": {},
     "output_type": "execute_result"
    }
   ],
   "source": [
    "import matplotlib.pyplot as plt\n",
    "df['is_fraud'].value_counts()"
   ]
  },
  {
   "cell_type": "code",
   "execution_count": 391,
   "id": "0f6cdde5-d57f-44a2-af7e-7b3aa1ae41d5",
   "metadata": {},
   "outputs": [
    {
     "data": {
      "image/png": "[encoded data removed]",
      "text/plain": [
       "<Figure size 640x480 with 1 Axes>"
      ]
     },
     "metadata": {},
     "output_type": "display_data"
    }
   ],
   "source": [
    "plt.title(\"Fraud vs Not Fraud Distribution\")\n",
    "plt.pie(df['is_fraud'].value_counts(),labels=['Fraud','Not Fraud'], autopct=\"%0.2f\")\n",
    "plt.show()"
   ]
  },
  {
   "cell_type": "code",
   "execution_count": 392,
   "id": "487e4b25-5c9b-4095-8199-2a13f34bd5fe",
   "metadata": {},
   "outputs": [
    {
     "data": {
      "text/plain": [
       "Index(['transaction_id', 'user_id', 'amount', 'transaction_type',\n",
       "       'device_type', 'location', 'time_of_day', 'transaction_hour',\n",
       "       'is_international', 'previous_transactions', 'failed_transactions',\n",
       "       'account_age_days', 'is_fraud', 'Date', 'Transaction Platform'],\n",
       "      dtype='object')"
      ]
     },
     "execution_count": 392,
     "metadata": {},
     "output_type": "execute_result"
    }
   ],
   "source": [
    "df.columns"
   ]
  },
  {
   "cell_type": "code",
   "execution_count": 393,
   "id": "97c96f7c-d4c7-4d32-9cf8-6ecbab30ac00",
   "metadata": {},
   "outputs": [
    {
     "data": {
      "text/plain": [
       "['transaction_id',\n",
       " 'user_id',\n",
       " 'amount',\n",
       " 'transaction_type',\n",
       " 'device_type',\n",
       " 'location',\n",
       " 'time_of_day',\n",
       " 'transaction_hour',\n",
       " 'is_international',\n",
       " 'previous_transactions',\n",
       " 'failed_transactions',\n",
       " 'account_age_days',\n",
       " 'is_fraud',\n",
       " 'Date',\n",
       " 'Transaction Platform']"
      ]
     },
     "execution_count": 393,
     "metadata": {},
     "output_type": "execute_result"
    }
   ],
   "source": [
    "list(df.columns)"
   ]
  },
  {
   "cell_type": "code",
   "execution_count": 394,
   "id": "2daa43ba-c951-4e89-a72f-ca58d1d1b4cb",
   "metadata": {},
   "outputs": [
    {
     "name": "stdout",
     "output_type": "stream",
     "text": [
      "Requirement already satisfied: seaborn in /home/kaka/my-jupyter-env/lib/python3.12/site-packages (0.13.2)\n",
      "Requirement already satisfied: numpy!=1.24.0,>=1.20 in /home/kaka/my-jupyter-env/lib/python3.12/site-packages (from seaborn) (2.3.4)\n",
      "Requirement already satisfied: pandas>=1.2 in /home/kaka/my-jupyter-env/lib/python3.12/site-packages (from seaborn) (2.3.3)\n",
      "Requirement already satisfied: matplotlib!=3.6.1,>=3.4 in /home/kaka/my-jupyter-env/lib/python3.12/site-packages (from seaborn) (3.10.7)\n",
      "Requirement already satisfied: contourpy>=1.0.1 in /home/kaka/my-jupyter-env/lib/python3.12/site-packages (from matplotlib!=3.6.1,>=3.4->seaborn) (1.3.3)\n",
      "Requirement already satisfied: cycler>=0.10 in /home/kaka/my-jupyter-env/lib/python3.12/site-packages (from matplotlib!=3.6.1,>=3.4->seaborn) (0.12.1)\n",
      "Requirement already satisfied: fonttools>=4.22.0 in /home/kaka/my-jupyter-env/lib/python3.12/site-packages (from matplotlib!=3.6.1,>=3.4->seaborn) (4.60.1)\n",
      "Requirement already satisfied: kiwisolver>=1.3.1 in /home/kaka/my-jupyter-env/lib/python3.12/site-packages (from matplotlib!=3.6.1,>=3.4->seaborn) (1.4.9)\n",
      "Requirement already satisfied: packaging>=20.0 in /home/kaka/my-jupyter-env/lib/python3.12/site-packages (from matplotlib!=3.6.1,>=3.4->seaborn) (25.0)\n",
      "Requirement already satisfied: pillow>=8 in /home/kaka/my-jupyter-env/lib/python3.12/site-packages (from matplotlib!=3.6.1,>=3.4->seaborn) (12.0.0)\n",
      "Requirement already satisfied: pyparsing>=3 in /home/kaka/my-jupyter-env/lib/python3.12/site-packages (from matplotlib!=3.6.1,>=3.4->seaborn) (3.2.5)\n",
      "Requirement already satisfied: python-dateutil>=2.7 in /home/kaka/my-jupyter-env/lib/python3.12/site-packages (from matplotlib!=3.6.1,>=3.4->seaborn) (2.9.0.post0)\n",
      "Requirement already satisfied: pytz>=2020.1 in /home/kaka/my-jupyter-env/lib/python3.12/site-packages (from pandas>=1.2->seaborn) (2025.2)\n",
      "Requirement already satisfied: tzdata>=2022.7 in /home/kaka/my-jupyter-env/lib/python3.12/site-packages (from pandas>=1.2->seaborn) (2025.2)\n",
      "Requirement already satisfied: six>=1.5 in /home/kaka/my-jupyter-env/lib/python3.12/site-packages (from python-dateutil>=2.7->matplotlib!=3.6.1,>=3.4->seaborn) (1.17.0)\n"
     ]
    }
   ],
   "source": [
    "!pip install seaborn\n",
    "import seaborn as sns"
   ]
  },
  {
   "cell_type": "code",
   "execution_count": 395,
   "id": "9bbc91b4-5061-45c7-b05e-43b285a32d10",
   "metadata": {},
   "outputs": [
    {
     "data": {
      "text/plain": [
       "<Axes: xlabel='transaction_hour', ylabel='Count'>"
      ]
     },
     "execution_count": 395,
     "metadata": {},
     "output_type": "execute_result"
    },
    {
     "data": {
      "image/png": "[encoded data removed]",
      "text/plain": [
       "<Figure size 700x500 with 1 Axes>"
      ]
     },
     "metadata": {},
     "output_type": "display_data"
    }
   ],
   "source": [
    "plt.figure(figsize = (7,5))\n",
    "plt.xticks(rotation='vertical')\n",
    "sns.histplot(df[df['is_fraud'] == 0]['transaction_hour'],color='blue')"
   ]
  },
  {
   "cell_type": "code",
   "execution_count": 396,
   "id": "3678b474-aa82-4641-b655-33bc49f64e05",
   "metadata": {},
   "outputs": [
    {
     "data": {
      "text/plain": [
       "<Axes: xlabel='transaction_hour', ylabel='Count'>"
      ]
     },
     "execution_count": 396,
     "metadata": {},
     "output_type": "execute_result"
    },
    {
     "data": {
      "image/png": "[encoded data removed]",
      "text/plain": [
       "<Figure size 700x500 with 1 Axes>"
      ]
     },
     "metadata": {},
     "output_type": "display_data"
    }
   ],
   "source": [
    "plt.figure(figsize = (7,5))\n",
    "plt.xticks(rotation='vertical')\n",
    "sns.histplot(df[df['is_fraud'] == 1]['transaction_hour'],color='red')"
   ]
  },
  {
   "cell_type": "code",
   "execution_count": 397,
   "id": "27b8e75e-cbc2-4ef0-83c2-098025647201",
   "metadata": {},
   "outputs": [
    {
     "data": {
      "text/plain": [
       "<Axes: xlabel='location', ylabel='Count'>"
      ]
     },
     "execution_count": 397,
     "metadata": {},
     "output_type": "execute_result"
    },
    {
     "data": {
      "image/png": "[encoded data removed]",
      "text/plain": [
       "<Figure size 400x600 with 1 Axes>"
      ]
     },
     "metadata": {},
     "output_type": "display_data"
    }
   ],
   "source": [
    "plt.figure(figsize = (4,6))\n",
    "plt.xticks(rotation='vertical')\n",
    "sns.histplot(df[df['is_fraud'] == 0]['location'],color='blue')"
   ]
  },
  {
   "cell_type": "code",
   "execution_count": 398,
   "id": "bd8af1d9-2c20-44e1-8a10-d38c2ba58583",
   "metadata": {},
   "outputs": [
    {
     "data": {
      "text/plain": [
       "<Axes: xlabel='location', ylabel='Count'>"
      ]
     },
     "execution_count": 398,
     "metadata": {},
     "output_type": "execute_result"
    },
    {
     "data": {
      "image/png": "[encoded data removed]",
      "text/plain": [
       "<Figure size 400x600 with 1 Axes>"
      ]
     },
     "metadata": {},
     "output_type": "display_data"
    }
   ],
   "source": [
    "plt.figure(figsize = (4,6))\n",
    "plt.xticks(rotation='vertical')\n",
    "sns.histplot(df[df['is_fraud'] == 1]['location'],color='red')"
   ]
  },
  {
   "cell_type": "code",
   "execution_count": 399,
   "id": "8ddf1d81-3fcc-4bb1-bd27-8e8ad504f51e",
   "metadata": {},
   "outputs": [
    {
     "data": {
      "text/html": [
       "<div>\n",
       "<style scoped>\n",
       "    .dataframe tbody tr th:only-of-type {\n",
       "        vertical-align: middle;\n",
       "    }\n",
       "\n",
       "    .dataframe tbody tr th {\n",
       "        vertical-align: top;\n",
       "    }\n",
       "\n",
       "    .dataframe thead th {\n",
       "        text-align: right;\n",
       "    }\n",
       "</style>\n",
       "<table border=\"1\" class=\"dataframe\">\n",
       "  <thead>\n",
       "    <tr style=\"text-align: right;\">\n",
       "      <th></th>\n",
       "      <th>amount</th>\n",
       "      <th>location</th>\n",
       "      <th>transaction_hour</th>\n",
       "      <th>is_fraud</th>\n",
       "    </tr>\n",
       "  </thead>\n",
       "  <tbody>\n",
       "    <tr>\n",
       "      <th>1</th>\n",
       "      <td>104351.51</td>\n",
       "      <td>Singapore</td>\n",
       "      <td>1</td>\n",
       "      <td>1</td>\n",
       "    </tr>\n",
       "    <tr>\n",
       "      <th>2</th>\n",
       "      <td>211864.52</td>\n",
       "      <td>Dubai</td>\n",
       "      <td>13</td>\n",
       "      <td>1</td>\n",
       "    </tr>\n",
       "    <tr>\n",
       "      <th>3</th>\n",
       "      <td>280370.03</td>\n",
       "      <td>Kolkata</td>\n",
       "      <td>15</td>\n",
       "      <td>1</td>\n",
       "    </tr>\n",
       "    <tr>\n",
       "      <th>7</th>\n",
       "      <td>79802.98</td>\n",
       "      <td>Delhi</td>\n",
       "      <td>19</td>\n",
       "      <td>1</td>\n",
       "    </tr>\n",
       "    <tr>\n",
       "      <th>10</th>\n",
       "      <td>211166.34</td>\n",
       "      <td>New York</td>\n",
       "      <td>21</td>\n",
       "      <td>1</td>\n",
       "    </tr>\n",
       "    <tr>\n",
       "      <th>...</th>\n",
       "      <td>...</td>\n",
       "      <td>...</td>\n",
       "      <td>...</td>\n",
       "      <td>...</td>\n",
       "    </tr>\n",
       "    <tr>\n",
       "      <th>9991</th>\n",
       "      <td>224192.10</td>\n",
       "      <td>Chennai</td>\n",
       "      <td>8</td>\n",
       "      <td>1</td>\n",
       "    </tr>\n",
       "    <tr>\n",
       "      <th>9992</th>\n",
       "      <td>9706.03</td>\n",
       "      <td>London</td>\n",
       "      <td>3</td>\n",
       "      <td>1</td>\n",
       "    </tr>\n",
       "    <tr>\n",
       "      <th>9995</th>\n",
       "      <td>118355.73</td>\n",
       "      <td>Dubai</td>\n",
       "      <td>23</td>\n",
       "      <td>1</td>\n",
       "    </tr>\n",
       "    <tr>\n",
       "      <th>9996</th>\n",
       "      <td>126545.76</td>\n",
       "      <td>Delhi</td>\n",
       "      <td>6</td>\n",
       "      <td>1</td>\n",
       "    </tr>\n",
       "    <tr>\n",
       "      <th>9999</th>\n",
       "      <td>227924.83</td>\n",
       "      <td>Mumbai</td>\n",
       "      <td>1</td>\n",
       "      <td>1</td>\n",
       "    </tr>\n",
       "  </tbody>\n",
       "</table>\n",
       "<p>5628 rows × 4 columns</p>\n",
       "</div>"
      ],
      "text/plain": [
       "         amount   location  transaction_hour  is_fraud\n",
       "1     104351.51  Singapore                 1         1\n",
       "2     211864.52      Dubai                13         1\n",
       "3     280370.03    Kolkata                15         1\n",
       "7      79802.98      Delhi                19         1\n",
       "10    211166.34   New York                21         1\n",
       "...         ...        ...               ...       ...\n",
       "9991  224192.10    Chennai                 8         1\n",
       "9992    9706.03     London                 3         1\n",
       "9995  118355.73      Dubai                23         1\n",
       "9996  126545.76      Delhi                 6         1\n",
       "9999  227924.83     Mumbai                 1         1\n",
       "\n",
       "[5628 rows x 4 columns]"
      ]
     },
     "execution_count": 399,
     "metadata": {},
     "output_type": "execute_result"
    }
   ],
   "source": [
    "fraud_df = df[df['is_fraud'] == 1] #Filters only fraud hours\n",
    "fraud_df[['amount','location','transaction_hour','is_fraud']]"
   ]
  },
  {
   "cell_type": "code",
   "execution_count": 400,
   "id": "9a3c5b92-dd7c-466a-95a2-a471f3695f55",
   "metadata": {},
   "outputs": [
    {
     "data": {
      "text/html": [
       "<div>\n",
       "<style scoped>\n",
       "    .dataframe tbody tr th:only-of-type {\n",
       "        vertical-align: middle;\n",
       "    }\n",
       "\n",
       "    .dataframe tbody tr th {\n",
       "        vertical-align: top;\n",
       "    }\n",
       "\n",
       "    .dataframe thead th {\n",
       "        text-align: right;\n",
       "    }\n",
       "</style>\n",
       "<table border=\"1\" class=\"dataframe\">\n",
       "  <thead>\n",
       "    <tr style=\"text-align: right;\">\n",
       "      <th></th>\n",
       "      <th>amount</th>\n",
       "      <th>location</th>\n",
       "      <th>transaction_hour</th>\n",
       "      <th>is_fraud</th>\n",
       "    </tr>\n",
       "  </thead>\n",
       "  <tbody>\n",
       "    <tr>\n",
       "      <th>0</th>\n",
       "      <td>43574.75</td>\n",
       "      <td>Singapore</td>\n",
       "      <td>9</td>\n",
       "      <td>0</td>\n",
       "    </tr>\n",
       "    <tr>\n",
       "      <th>4</th>\n",
       "      <td>216222.76</td>\n",
       "      <td>Delhi</td>\n",
       "      <td>17</td>\n",
       "      <td>0</td>\n",
       "    </tr>\n",
       "    <tr>\n",
       "      <th>5</th>\n",
       "      <td>156210.96</td>\n",
       "      <td>Pune</td>\n",
       "      <td>15</td>\n",
       "      <td>0</td>\n",
       "    </tr>\n",
       "    <tr>\n",
       "      <th>6</th>\n",
       "      <td>139215.46</td>\n",
       "      <td>Bangalore</td>\n",
       "      <td>4</td>\n",
       "      <td>0</td>\n",
       "    </tr>\n",
       "    <tr>\n",
       "      <th>8</th>\n",
       "      <td>60807.93</td>\n",
       "      <td>Chennai</td>\n",
       "      <td>10</td>\n",
       "      <td>0</td>\n",
       "    </tr>\n",
       "    <tr>\n",
       "      <th>...</th>\n",
       "      <td>...</td>\n",
       "      <td>...</td>\n",
       "      <td>...</td>\n",
       "      <td>...</td>\n",
       "    </tr>\n",
       "    <tr>\n",
       "      <th>9989</th>\n",
       "      <td>22519.77</td>\n",
       "      <td>Chennai</td>\n",
       "      <td>1</td>\n",
       "      <td>0</td>\n",
       "    </tr>\n",
       "    <tr>\n",
       "      <th>9993</th>\n",
       "      <td>5291.13</td>\n",
       "      <td>Dubai</td>\n",
       "      <td>12</td>\n",
       "      <td>0</td>\n",
       "    </tr>\n",
       "    <tr>\n",
       "      <th>9994</th>\n",
       "      <td>221462.31</td>\n",
       "      <td>Delhi</td>\n",
       "      <td>15</td>\n",
       "      <td>0</td>\n",
       "    </tr>\n",
       "    <tr>\n",
       "      <th>9997</th>\n",
       "      <td>8905.02</td>\n",
       "      <td>Kolkata</td>\n",
       "      <td>23</td>\n",
       "      <td>0</td>\n",
       "    </tr>\n",
       "    <tr>\n",
       "      <th>9998</th>\n",
       "      <td>81748.84</td>\n",
       "      <td>Singapore</td>\n",
       "      <td>16</td>\n",
       "      <td>0</td>\n",
       "    </tr>\n",
       "  </tbody>\n",
       "</table>\n",
       "<p>4372 rows × 4 columns</p>\n",
       "</div>"
      ],
      "text/plain": [
       "         amount   location  transaction_hour  is_fraud\n",
       "0      43574.75  Singapore                 9         0\n",
       "4     216222.76      Delhi                17         0\n",
       "5     156210.96       Pune                15         0\n",
       "6     139215.46  Bangalore                 4         0\n",
       "8      60807.93    Chennai                10         0\n",
       "...         ...        ...               ...       ...\n",
       "9989   22519.77    Chennai                 1         0\n",
       "9993    5291.13      Dubai                12         0\n",
       "9994  221462.31      Delhi                15         0\n",
       "9997    8905.02    Kolkata                23         0\n",
       "9998   81748.84  Singapore                16         0\n",
       "\n",
       "[4372 rows x 4 columns]"
      ]
     },
     "execution_count": 400,
     "metadata": {},
     "output_type": "execute_result"
    }
   ],
   "source": [
    "fraud_df_1 = df[df['is_fraud'] == 0] #Filters only Non-Fraud hours\n",
    "fraud_df_1[['amount','location','transaction_hour','is_fraud']]"
   ]
  },
  {
   "cell_type": "code",
   "execution_count": 401,
   "id": "d37bed16-517f-4ef8-9fd3-216612fbadae",
   "metadata": {},
   "outputs": [
    {
     "data": {
      "text/html": [
       "<div>\n",
       "<style scoped>\n",
       "    .dataframe tbody tr th:only-of-type {\n",
       "        vertical-align: middle;\n",
       "    }\n",
       "\n",
       "    .dataframe tbody tr th {\n",
       "        vertical-align: top;\n",
       "    }\n",
       "\n",
       "    .dataframe thead th {\n",
       "        text-align: right;\n",
       "    }\n",
       "</style>\n",
       "<table border=\"1\" class=\"dataframe\">\n",
       "  <thead>\n",
       "    <tr style=\"text-align: right;\">\n",
       "      <th></th>\n",
       "      <th>Transaction-Hour</th>\n",
       "      <th>No. of Transactions</th>\n",
       "    </tr>\n",
       "  </thead>\n",
       "  <tbody>\n",
       "    <tr>\n",
       "      <th>0</th>\n",
       "      <td>20</td>\n",
       "      <td>218</td>\n",
       "    </tr>\n",
       "    <tr>\n",
       "      <th>1</th>\n",
       "      <td>7</td>\n",
       "      <td>216</td>\n",
       "    </tr>\n",
       "    <tr>\n",
       "      <th>2</th>\n",
       "      <td>22</td>\n",
       "      <td>202</td>\n",
       "    </tr>\n",
       "    <tr>\n",
       "      <th>3</th>\n",
       "      <td>16</td>\n",
       "      <td>200</td>\n",
       "    </tr>\n",
       "    <tr>\n",
       "      <th>4</th>\n",
       "      <td>11</td>\n",
       "      <td>198</td>\n",
       "    </tr>\n",
       "    <tr>\n",
       "      <th>5</th>\n",
       "      <td>6</td>\n",
       "      <td>196</td>\n",
       "    </tr>\n",
       "    <tr>\n",
       "      <th>6</th>\n",
       "      <td>10</td>\n",
       "      <td>193</td>\n",
       "    </tr>\n",
       "    <tr>\n",
       "      <th>7</th>\n",
       "      <td>5</td>\n",
       "      <td>193</td>\n",
       "    </tr>\n",
       "    <tr>\n",
       "      <th>8</th>\n",
       "      <td>18</td>\n",
       "      <td>190</td>\n",
       "    </tr>\n",
       "    <tr>\n",
       "      <th>9</th>\n",
       "      <td>12</td>\n",
       "      <td>190</td>\n",
       "    </tr>\n",
       "  </tbody>\n",
       "</table>\n",
       "</div>"
      ],
      "text/plain": [
       "   Transaction-Hour  No. of Transactions\n",
       "0                20                  218\n",
       "1                 7                  216\n",
       "2                22                  202\n",
       "3                16                  200\n",
       "4                11                  198\n",
       "5                 6                  196\n",
       "6                10                  193\n",
       "7                 5                  193\n",
       "8                18                  190\n",
       "9                12                  190"
      ]
     },
     "execution_count": 401,
     "metadata": {},
     "output_type": "execute_result"
    }
   ],
   "source": [
    "top_hours_1 = (\n",
    "    fraud_df_1['transaction_hour'].\n",
    "        value_counts().\n",
    "        sort_values(ascending=False).\n",
    "        head(10)\n",
    ")\n",
    "l1 = list(map(int,top_hours_1.index))\n",
    "l2 = list(map(int,top_hours_1.values))\n",
    "\n",
    "Final_Top_Hours_1 = pd.DataFrame({\n",
    "    'Transaction-Hour': l1,\n",
    "    'No. of Transactions': l2\n",
    "})\n",
    "\n",
    "Final_Top_Hours_1"
   ]
  },
  {
   "cell_type": "code",
   "execution_count": 402,
   "id": "2f0f67ad-15a8-4f0c-bff9-f12e9f6aa373",
   "metadata": {},
   "outputs": [
    {
     "data": {
      "text/plain": [
       "Text(0, 0.5, 'No. of Transactions')"
      ]
     },
     "execution_count": 402,
     "metadata": {},
     "output_type": "execute_result"
    },
    {
     "data": {
      "image/png": "[encoded data removed]",
      "text/plain": [
       "<Figure size 600x600 with 1 Axes>"
      ]
     },
     "metadata": {},
     "output_type": "display_data"
    }
   ],
   "source": [
    "plt.figure(figsize=(6,6))\n",
    "sns.barplot(x='Transaction-Hour', y='No. of Transactions', data = Final_Top_Hours_1)\n",
    "plt.title('Top 10 Transaction Hour vs. No. of Non-Fraud Transactions')\n",
    "plt.xlabel('Hour of The Day(0-23)')\n",
    "plt.ylabel('No. of Transactions')"
   ]
  },
  {
   "cell_type": "code",
   "execution_count": 403,
   "id": "aa72f38f-cc39-468b-958e-10828c4e19de",
   "metadata": {},
   "outputs": [
    {
     "data": {
      "text/html": [
       "<div>\n",
       "<style scoped>\n",
       "    .dataframe tbody tr th:only-of-type {\n",
       "        vertical-align: middle;\n",
       "    }\n",
       "\n",
       "    .dataframe tbody tr th {\n",
       "        vertical-align: top;\n",
       "    }\n",
       "\n",
       "    .dataframe thead th {\n",
       "        text-align: right;\n",
       "    }\n",
       "</style>\n",
       "<table border=\"1\" class=\"dataframe\">\n",
       "  <thead>\n",
       "    <tr style=\"text-align: right;\">\n",
       "      <th></th>\n",
       "      <th>Location</th>\n",
       "      <th>No. of Transactions(Non-Fraud)</th>\n",
       "    </tr>\n",
       "  </thead>\n",
       "  <tbody>\n",
       "    <tr>\n",
       "      <th>0</th>\n",
       "      <td>Pune</td>\n",
       "      <td>584</td>\n",
       "    </tr>\n",
       "    <tr>\n",
       "      <th>1</th>\n",
       "      <td>Mumbai</td>\n",
       "      <td>569</td>\n",
       "    </tr>\n",
       "    <tr>\n",
       "      <th>2</th>\n",
       "      <td>Chennai</td>\n",
       "      <td>565</td>\n",
       "    </tr>\n",
       "    <tr>\n",
       "      <th>3</th>\n",
       "      <td>Delhi</td>\n",
       "      <td>562</td>\n",
       "    </tr>\n",
       "    <tr>\n",
       "      <th>4</th>\n",
       "      <td>Bangalore</td>\n",
       "      <td>560</td>\n",
       "    </tr>\n",
       "    <tr>\n",
       "      <th>5</th>\n",
       "      <td>Kolkata</td>\n",
       "      <td>536</td>\n",
       "    </tr>\n",
       "    <tr>\n",
       "      <th>6</th>\n",
       "      <td>Dubai</td>\n",
       "      <td>259</td>\n",
       "    </tr>\n",
       "    <tr>\n",
       "      <th>7</th>\n",
       "      <td>New York</td>\n",
       "      <td>254</td>\n",
       "    </tr>\n",
       "    <tr>\n",
       "      <th>8</th>\n",
       "      <td>London</td>\n",
       "      <td>253</td>\n",
       "    </tr>\n",
       "    <tr>\n",
       "      <th>9</th>\n",
       "      <td>Singapore</td>\n",
       "      <td>230</td>\n",
       "    </tr>\n",
       "  </tbody>\n",
       "</table>\n",
       "</div>"
      ],
      "text/plain": [
       "    Location  No. of Transactions(Non-Fraud)\n",
       "0       Pune                             584\n",
       "1     Mumbai                             569\n",
       "2    Chennai                             565\n",
       "3      Delhi                             562\n",
       "4  Bangalore                             560\n",
       "5    Kolkata                             536\n",
       "6      Dubai                             259\n",
       "7   New York                             254\n",
       "8     London                             253\n",
       "9  Singapore                             230"
      ]
     },
     "execution_count": 403,
     "metadata": {},
     "output_type": "execute_result"
    }
   ],
   "source": [
    "top_loc_1 = (\n",
    "    fraud_df_1['location'].\n",
    "        value_counts().\n",
    "        sort_values(ascending=False).\n",
    "        head(10)\n",
    ")\n",
    "l1 = list(map(str,top_loc_1.index))\n",
    "l2 = list(map(int,top_loc_1.values))\n",
    "Final_Top_Loc_1 = pd.DataFrame({\n",
    "    'Location': l1,\n",
    "    'No. of Transactions(Non-Fraud)': l2\n",
    "})\n",
    "Final_Top_Loc_1"
   ]
  },
  {
   "cell_type": "code",
   "execution_count": 404,
   "id": "8928b140-0069-454c-b93f-4099eff3553a",
   "metadata": {},
   "outputs": [
    {
     "data": {
      "image/png": "[encoded data removed]",
      "text/plain": [
       "<Figure size 600x600 with 1 Axes>"
      ]
     },
     "metadata": {},
     "output_type": "display_data"
    }
   ],
   "source": [
    "plt.figure(figsize=(6,6))\n",
    "sns.barplot(x='Location',y='No. of Transactions(Non-Fraud)', data = Final_Top_Loc_1)\n",
    "plt.title('Top 10 Location vs No. of Non-Fraud Transactions')\n",
    "plt.xlabel('Locations')\n",
    "plt.ylabel('No. of Non-Fraud Transactions')\n",
    "plt.xticks(rotation='vertical')\n",
    "plt.show() #Pune observed with Most Non-Fraud Transactions(584)"
   ]
  },
  {
   "cell_type": "code",
   "execution_count": 405,
   "id": "a99b77d1-cabc-44f8-906f-068ca9a4073a",
   "metadata": {},
   "outputs": [
    {
     "data": {
      "text/html": [
       "<div>\n",
       "<style scoped>\n",
       "    .dataframe tbody tr th:only-of-type {\n",
       "        vertical-align: middle;\n",
       "    }\n",
       "\n",
       "    .dataframe tbody tr th {\n",
       "        vertical-align: top;\n",
       "    }\n",
       "\n",
       "    .dataframe thead th {\n",
       "        text-align: right;\n",
       "    }\n",
       "</style>\n",
       "<table border=\"1\" class=\"dataframe\">\n",
       "  <thead>\n",
       "    <tr style=\"text-align: right;\">\n",
       "      <th></th>\n",
       "      <th>Transaction-Hour</th>\n",
       "      <th>No. of Transactions</th>\n",
       "    </tr>\n",
       "  </thead>\n",
       "  <tbody>\n",
       "    <tr>\n",
       "      <th>0</th>\n",
       "      <td>0</td>\n",
       "      <td>127</td>\n",
       "    </tr>\n",
       "    <tr>\n",
       "      <th>1</th>\n",
       "      <td>1</td>\n",
       "      <td>135</td>\n",
       "    </tr>\n",
       "    <tr>\n",
       "      <th>2</th>\n",
       "      <td>3</td>\n",
       "      <td>146</td>\n",
       "    </tr>\n",
       "    <tr>\n",
       "      <th>3</th>\n",
       "      <td>2</td>\n",
       "      <td>149</td>\n",
       "    </tr>\n",
       "    <tr>\n",
       "      <th>4</th>\n",
       "      <td>9</td>\n",
       "      <td>159</td>\n",
       "    </tr>\n",
       "  </tbody>\n",
       "</table>\n",
       "</div>"
      ],
      "text/plain": [
       "   Transaction-Hour  No. of Transactions\n",
       "0                 0                  127\n",
       "1                 1                  135\n",
       "2                 3                  146\n",
       "3                 2                  149\n",
       "4                 9                  159"
      ]
     },
     "execution_count": 405,
     "metadata": {},
     "output_type": "execute_result"
    }
   ],
   "source": [
    "top_hours_1_rev = (\n",
    "    fraud_df_1['transaction_hour'].\n",
    "        value_counts().\n",
    "        sort_values(ascending=True).\n",
    "        head(5)\n",
    ")\n",
    "l1 = list(map(int,top_hours_1_rev.index))\n",
    "l2 = list(map(int,top_hours_1_rev.values))\n",
    "\n",
    "Final_Top_Hours_1_rev = pd.DataFrame({\n",
    "    'Transaction-Hour': l1,\n",
    "    'No. of Transactions': l2\n",
    "})\n",
    "\n",
    "Final_Top_Hours_1_rev"
   ]
  },
  {
   "cell_type": "code",
   "execution_count": 406,
   "id": "567aab22-407e-4b0b-9d12-cf3bad5f8154",
   "metadata": {},
   "outputs": [
    {
     "data": {
      "text/plain": [
       "Text(0, 0.5, 'No. of Transactions')"
      ]
     },
     "execution_count": 406,
     "metadata": {},
     "output_type": "execute_result"
    },
    {
     "data": {
      "image/png": "[encoded data removed]",
      "text/plain": [
       "<Figure size 300x300 with 1 Axes>"
      ]
     },
     "metadata": {},
     "output_type": "display_data"
    }
   ],
   "source": [
    "plt.figure(figsize=(3,3))\n",
    "sns.barplot(x='Transaction-Hour', y='No. of Transactions', data = Final_Top_Hours_1_rev)\n",
    "plt.title('Last 5 Transaction Hour vs. No. of Non-Fraud Transactions')\n",
    "plt.xlabel('Hour of The Day(0-23)')\n",
    "plt.ylabel('No. of Transactions')"
   ]
  },
  {
   "cell_type": "code",
   "execution_count": 407,
   "id": "609d4e10-bc33-41a3-aabe-d32a36ed99da",
   "metadata": {},
   "outputs": [
    {
     "data": {
      "text/html": [
       "<div>\n",
       "<style scoped>\n",
       "    .dataframe tbody tr th:only-of-type {\n",
       "        vertical-align: middle;\n",
       "    }\n",
       "\n",
       "    .dataframe tbody tr th {\n",
       "        vertical-align: top;\n",
       "    }\n",
       "\n",
       "    .dataframe thead th {\n",
       "        text-align: right;\n",
       "    }\n",
       "</style>\n",
       "<table border=\"1\" class=\"dataframe\">\n",
       "  <thead>\n",
       "    <tr style=\"text-align: right;\">\n",
       "      <th></th>\n",
       "      <th>Location</th>\n",
       "      <th>No. of Transactions(Non-Fraud)</th>\n",
       "    </tr>\n",
       "  </thead>\n",
       "  <tbody>\n",
       "    <tr>\n",
       "      <th>0</th>\n",
       "      <td>Singapore</td>\n",
       "      <td>230</td>\n",
       "    </tr>\n",
       "    <tr>\n",
       "      <th>1</th>\n",
       "      <td>London</td>\n",
       "      <td>253</td>\n",
       "    </tr>\n",
       "    <tr>\n",
       "      <th>2</th>\n",
       "      <td>New York</td>\n",
       "      <td>254</td>\n",
       "    </tr>\n",
       "    <tr>\n",
       "      <th>3</th>\n",
       "      <td>Dubai</td>\n",
       "      <td>259</td>\n",
       "    </tr>\n",
       "    <tr>\n",
       "      <th>4</th>\n",
       "      <td>Kolkata</td>\n",
       "      <td>536</td>\n",
       "    </tr>\n",
       "  </tbody>\n",
       "</table>\n",
       "</div>"
      ],
      "text/plain": [
       "    Location  No. of Transactions(Non-Fraud)\n",
       "0  Singapore                             230\n",
       "1     London                             253\n",
       "2   New York                             254\n",
       "3      Dubai                             259\n",
       "4    Kolkata                             536"
      ]
     },
     "execution_count": 407,
     "metadata": {},
     "output_type": "execute_result"
    }
   ],
   "source": [
    "top_loc_1_rev = (\n",
    "    fraud_df_1['location'].\n",
    "        value_counts().\n",
    "        sort_values(ascending=True).\n",
    "        head(5)\n",
    ")\n",
    "l1 = list(map(str,top_loc_1_rev.index))\n",
    "l2 = list(map(int,top_loc_1_rev.values))\n",
    "\n",
    "Final_Top_Loc_1_rev = pd.DataFrame({\n",
    "    'Location': l1,\n",
    "    'No. of Transactions(Non-Fraud)': l2\n",
    "})\n",
    "Final_Top_Loc_1_rev"
   ]
  },
  {
   "cell_type": "code",
   "execution_count": 408,
   "id": "18bd8583-c7a5-4463-bb35-3e5e552bc1a4",
   "metadata": {},
   "outputs": [
    {
     "data": {
      "image/png": "[encoded data removed]",
      "text/plain": [
       "<Figure size 300x300 with 1 Axes>"
      ]
     },
     "metadata": {},
     "output_type": "display_data"
    }
   ],
   "source": [
    "plt.figure(figsize=(3,3))\n",
    "sns.barplot(x='Location', y='No. of Transactions(Non-Fraud)', data = Final_Top_Loc_1_rev)\n",
    "plt.title('Last 5 Location vs No. of Non-Fraud Transactions')\n",
    "plt.xticks(rotation='vertical')\n",
    "plt.xlabel('Location')\n",
    "plt.ylabel('No. of Non-Fraud Transactions')\n",
    "plt.show() #Singapore observed with Least Non-Fraud Transactions(230)"
   ]
  },
  {
   "cell_type": "code",
   "execution_count": 409,
   "id": "60f0f347-af3c-4fe8-9a63-8fd2efc4e89c",
   "metadata": {},
   "outputs": [
    {
     "name": "stdout",
     "output_type": "stream",
     "text": [
      "   Transaction-Hour  No. of Transactions\n",
      "0                 2                  286\n",
      "1                 3                  275\n",
      "2                 1                  257\n",
      "3                 0                  256\n",
      "4                19                  254\n",
      "5                20                  243\n",
      "6                14                  242\n",
      "7                15                  240\n",
      "8                 5                  239\n",
      "9                18                  233\n"
     ]
    }
   ],
   "source": [
    "top_hours = (\n",
    "    fraud_df['transaction_hour'].\n",
    "        value_counts().\n",
    "        sort_values(ascending=False).\n",
    "        head(10)\n",
    ")\n",
    "l1 = list(map(int,top_hours.index))\n",
    "l2 = list(map(int,top_hours.values))\n",
    "Final_Top_Hours = pd.DataFrame({\n",
    "    'Transaction-Hour': l1,\n",
    "    'No. of Transactions': l2\n",
    "})\n",
    "print(Final_Top_Hours)"
   ]
  },
  {
   "cell_type": "code",
   "execution_count": 410,
   "id": "64d44a80-8d04-4854-a3a6-29bdae21bc33",
   "metadata": {},
   "outputs": [
    {
     "data": {
      "text/plain": [
       "Text(0, 0.5, 'No. of Transactions')"
      ]
     },
     "execution_count": 410,
     "metadata": {},
     "output_type": "execute_result"
    },
    {
     "data": {
      "image/png": "[encoded data removed]",
      "text/plain": [
       "<Figure size 600x600 with 1 Axes>"
      ]
     },
     "metadata": {},
     "output_type": "display_data"
    }
   ],
   "source": [
    "plt.figure(figsize=(6,6))\n",
    "sns.barplot(x='Transaction-Hour', y='No. of Transactions', data = Final_Top_Hours)\n",
    "plt.title('Top 10 Transaction Hour vs. No. of Fraud Transactions')\n",
    "plt.xlabel('Hour of The Day(0-23)')\n",
    "plt.ylabel('No. of Transactions')"
   ]
  },
  {
   "cell_type": "code",
   "execution_count": 411,
   "id": "3e50c7e9-b3bf-4626-b5c7-e8a68e9299ca",
   "metadata": {},
   "outputs": [
    {
     "data": {
      "text/html": [
       "<div>\n",
       "<style scoped>\n",
       "    .dataframe tbody tr th:only-of-type {\n",
       "        vertical-align: middle;\n",
       "    }\n",
       "\n",
       "    .dataframe tbody tr th {\n",
       "        vertical-align: top;\n",
       "    }\n",
       "\n",
       "    .dataframe thead th {\n",
       "        text-align: right;\n",
       "    }\n",
       "</style>\n",
       "<table border=\"1\" class=\"dataframe\">\n",
       "  <thead>\n",
       "    <tr style=\"text-align: right;\">\n",
       "      <th></th>\n",
       "      <th>Location</th>\n",
       "      <th>No. of Transactions(Fraud)</th>\n",
       "    </tr>\n",
       "  </thead>\n",
       "  <tbody>\n",
       "    <tr>\n",
       "      <th>0</th>\n",
       "      <td>Dubai</td>\n",
       "      <td>819</td>\n",
       "    </tr>\n",
       "    <tr>\n",
       "      <th>1</th>\n",
       "      <td>London</td>\n",
       "      <td>775</td>\n",
       "    </tr>\n",
       "    <tr>\n",
       "      <th>2</th>\n",
       "      <td>New York</td>\n",
       "      <td>765</td>\n",
       "    </tr>\n",
       "    <tr>\n",
       "      <th>3</th>\n",
       "      <td>Singapore</td>\n",
       "      <td>723</td>\n",
       "    </tr>\n",
       "    <tr>\n",
       "      <th>4</th>\n",
       "      <td>Mumbai</td>\n",
       "      <td>439</td>\n",
       "    </tr>\n",
       "    <tr>\n",
       "      <th>5</th>\n",
       "      <td>Pune</td>\n",
       "      <td>437</td>\n",
       "    </tr>\n",
       "    <tr>\n",
       "      <th>6</th>\n",
       "      <td>Chennai</td>\n",
       "      <td>436</td>\n",
       "    </tr>\n",
       "    <tr>\n",
       "      <th>7</th>\n",
       "      <td>Delhi</td>\n",
       "      <td>429</td>\n",
       "    </tr>\n",
       "    <tr>\n",
       "      <th>8</th>\n",
       "      <td>Bangalore</td>\n",
       "      <td>405</td>\n",
       "    </tr>\n",
       "    <tr>\n",
       "      <th>9</th>\n",
       "      <td>Kolkata</td>\n",
       "      <td>400</td>\n",
       "    </tr>\n",
       "  </tbody>\n",
       "</table>\n",
       "</div>"
      ],
      "text/plain": [
       "    Location  No. of Transactions(Fraud)\n",
       "0      Dubai                         819\n",
       "1     London                         775\n",
       "2   New York                         765\n",
       "3  Singapore                         723\n",
       "4     Mumbai                         439\n",
       "5       Pune                         437\n",
       "6    Chennai                         436\n",
       "7      Delhi                         429\n",
       "8  Bangalore                         405\n",
       "9    Kolkata                         400"
      ]
     },
     "execution_count": 411,
     "metadata": {},
     "output_type": "execute_result"
    }
   ],
   "source": [
    "top_loc = (\n",
    "    fraud_df['location'].\n",
    "        value_counts().\n",
    "        sort_values(ascending=False).\n",
    "        head(10)\n",
    ")\n",
    "l1 = list(map(str,top_loc.index))\n",
    "l2 = list(map(int,top_loc.values))\n",
    "Final_Top_Loc = pd.DataFrame({\n",
    "    'Location': l1,\n",
    "    'No. of Transactions(Fraud)': l2\n",
    "})\n",
    "Final_Top_Loc"
   ]
  },
  {
   "cell_type": "code",
   "execution_count": 412,
   "id": "762bd170-4abb-4916-aae3-33adeb723463",
   "metadata": {},
   "outputs": [
    {
     "data": {
      "image/png": "[encoded data removed]",
      "text/plain": [
       "<Figure size 600x600 with 1 Axes>"
      ]
     },
     "metadata": {},
     "output_type": "display_data"
    }
   ],
   "source": [
    "plt.figure(figsize=(6,6))\n",
    "sns.barplot(x='Location',y='No. of Transactions(Fraud)', data = Final_Top_Loc)\n",
    "plt.title('Top 10 Location vs No. of Fraud Transactions')\n",
    "plt.xlabel('Locations')\n",
    "plt.ylabel('No. of Fraud Transactions')\n",
    "plt.xticks(rotation='vertical')\n",
    "plt.show() #Dubai observed with Most Fraud Transactions(819)"
   ]
  },
  {
   "cell_type": "code",
   "execution_count": 413,
   "id": "3de5a0e2-c767-436a-a5cc-1dcaf11debd0",
   "metadata": {},
   "outputs": [
    {
     "name": "stdout",
     "output_type": "stream",
     "text": [
      "   Transaction-Hour  No. of Transactions\n",
      "0                22                  205\n",
      "1                12                  214\n",
      "2                 8                  215\n",
      "3                21                  216\n",
      "4                 6                  217\n"
     ]
    }
   ],
   "source": [
    "top_hours_rev = (\n",
    "    fraud_df['transaction_hour'].\n",
    "        value_counts().\n",
    "        sort_values(ascending=True).\n",
    "        head(5)\n",
    ")\n",
    "l1 = list(map(int,top_hours_rev.index))\n",
    "l2 = list(map(int,top_hours_rev.values))\n",
    "Final_Top_Hours_rev = pd.DataFrame({\n",
    "    'Transaction-Hour': l1,\n",
    "    'No. of Transactions': l2\n",
    "})\n",
    "print(Final_Top_Hours_rev)"
   ]
  },
  {
   "cell_type": "code",
   "execution_count": 414,
   "id": "3c9eb3a0-3fc0-4ce5-b838-2ddd7772e9fb",
   "metadata": {},
   "outputs": [
    {
     "data": {
      "text/plain": [
       "Text(0, 0.5, 'No. of Transactions')"
      ]
     },
     "execution_count": 414,
     "metadata": {},
     "output_type": "execute_result"
    },
    {
     "data": {
      "image/png": "[encoded data removed]",
      "text/plain": [
       "<Figure size 300x300 with 1 Axes>"
      ]
     },
     "metadata": {},
     "output_type": "display_data"
    }
   ],
   "source": [
    "plt.figure(figsize=(3,3))\n",
    "sns.barplot(x='Transaction-Hour', y='No. of Transactions', data = Final_Top_Hours_rev)\n",
    "plt.title('Last 5 Transaction Hour vs. No. of Fraud Transactions')\n",
    "plt.xlabel('Hour of The Day(0-23)')\n",
    "plt.ylabel('No. of Transactions')"
   ]
  },
  {
   "cell_type": "code",
   "execution_count": 415,
   "id": "cb0108ef-4b20-4273-b7ec-5311f2fde2c9",
   "metadata": {},
   "outputs": [
    {
     "data": {
      "text/html": [
       "<div>\n",
       "<style scoped>\n",
       "    .dataframe tbody tr th:only-of-type {\n",
       "        vertical-align: middle;\n",
       "    }\n",
       "\n",
       "    .dataframe tbody tr th {\n",
       "        vertical-align: top;\n",
       "    }\n",
       "\n",
       "    .dataframe thead th {\n",
       "        text-align: right;\n",
       "    }\n",
       "</style>\n",
       "<table border=\"1\" class=\"dataframe\">\n",
       "  <thead>\n",
       "    <tr style=\"text-align: right;\">\n",
       "      <th></th>\n",
       "      <th>Location</th>\n",
       "      <th>No. of Transactions(Fraud)</th>\n",
       "    </tr>\n",
       "  </thead>\n",
       "  <tbody>\n",
       "    <tr>\n",
       "      <th>0</th>\n",
       "      <td>Kolkata</td>\n",
       "      <td>400</td>\n",
       "    </tr>\n",
       "    <tr>\n",
       "      <th>1</th>\n",
       "      <td>Bangalore</td>\n",
       "      <td>405</td>\n",
       "    </tr>\n",
       "    <tr>\n",
       "      <th>2</th>\n",
       "      <td>Delhi</td>\n",
       "      <td>429</td>\n",
       "    </tr>\n",
       "    <tr>\n",
       "      <th>3</th>\n",
       "      <td>Chennai</td>\n",
       "      <td>436</td>\n",
       "    </tr>\n",
       "    <tr>\n",
       "      <th>4</th>\n",
       "      <td>Pune</td>\n",
       "      <td>437</td>\n",
       "    </tr>\n",
       "  </tbody>\n",
       "</table>\n",
       "</div>"
      ],
      "text/plain": [
       "    Location  No. of Transactions(Fraud)\n",
       "0    Kolkata                         400\n",
       "1  Bangalore                         405\n",
       "2      Delhi                         429\n",
       "3    Chennai                         436\n",
       "4       Pune                         437"
      ]
     },
     "execution_count": 415,
     "metadata": {},
     "output_type": "execute_result"
    }
   ],
   "source": [
    "top_loc_rev = (\n",
    "    fraud_df['location'].\n",
    "        value_counts().\n",
    "        sort_values(ascending=True).\n",
    "        head(5)\n",
    ")\n",
    "l1 = list(map(str,top_loc_rev.index))\n",
    "l2 = list(map(int,top_loc_rev.values))\n",
    "\n",
    "Final_Top_Loc_rev = pd.DataFrame({\n",
    "    'Location': l1,\n",
    "    'No. of Transactions(Fraud)': l2\n",
    "})\n",
    "Final_Top_Loc_rev"
   ]
  },
  {
   "cell_type": "code",
   "execution_count": 416,
   "id": "1050aa36-966f-4502-bad2-57e748af3aa9",
   "metadata": {},
   "outputs": [
    {
     "data": {
      "image/png": "[encoded data removed]",
      "text/plain": [
       "<Figure size 300x300 with 1 Axes>"
      ]
     },
     "metadata": {},
     "output_type": "display_data"
    }
   ],
   "source": [
    "plt.figure(figsize=(3,3))\n",
    "sns.barplot(x='Location', y='No. of Transactions(Fraud)', data = Final_Top_Loc_rev)\n",
    "plt.title('Last 5 Location vs No. of Fraud Transactions')\n",
    "plt.xticks(rotation='vertical')\n",
    "plt.xlabel('Location')\n",
    "plt.ylabel('No. of Fraud Transactions')\n",
    "plt.show() #Kolkata observed with least Fraud Transactions(400)"
   ]
  },
  {
   "cell_type": "code",
   "execution_count": 417,
   "id": "55cefd54-6d3c-40d2-9e06-a88dfadd2d33",
   "metadata": {},
   "outputs": [],
   "source": [
    "#Model Building\n",
    "import pickle\n",
    "from sklearn.metrics import accuracy_score"
   ]
  },
  {
   "cell_type": "code",
   "execution_count": 418,
   "id": "57024c95-b88e-4a7b-8ee4-3bd0b55fc2be",
   "metadata": {},
   "outputs": [
    {
     "data": {
      "text/plain": [
       "Index(['transaction_id', 'user_id', 'amount', 'transaction_type',\n",
       "       'device_type', 'location', 'time_of_day', 'transaction_hour',\n",
       "       'is_international', 'previous_transactions', 'failed_transactions',\n",
       "       'account_age_days', 'is_fraud', 'Date', 'Transaction Platform'],\n",
       "      dtype='object')"
      ]
     },
     "execution_count": 418,
     "metadata": {},
     "output_type": "execute_result"
    }
   ],
   "source": [
    "df.columns"
   ]
  },
  {
   "cell_type": "code",
   "execution_count": 419,
   "id": "9b7b67cc-5bd4-4e69-83b7-cfdad3f78bee",
   "metadata": {},
   "outputs": [],
   "source": [
    "df['Date'] = df['Date'].str.replace('/','').astype(int)"
   ]
  },
  {
   "cell_type": "code",
   "execution_count": 420,
   "id": "450fa040-e622-4b35-b3be-ca1be3b7f698",
   "metadata": {},
   "outputs": [
    {
     "data": {
      "text/plain": [
       "0        4092017\n",
       "1       18022020\n",
       "2       29052020\n",
       "3       18072022\n",
       "4        5072021\n",
       "          ...   \n",
       "9995    30092017\n",
       "9996    31102020\n",
       "9997     9012018\n",
       "9998     6072016\n",
       "9999    17042023\n",
       "Name: Date, Length: 10000, dtype: int64"
      ]
     },
     "execution_count": 420,
     "metadata": {},
     "output_type": "execute_result"
    }
   ],
   "source": [
    "df['Date']"
   ]
  },
  {
   "cell_type": "code",
   "execution_count": 421,
   "id": "320be8c5-eb1b-4ef1-9f3b-f61845879272",
   "metadata": {},
   "outputs": [
    {
     "data": {
      "text/html": [
       "<div>\n",
       "<style scoped>\n",
       "    .dataframe tbody tr th:only-of-type {\n",
       "        vertical-align: middle;\n",
       "    }\n",
       "\n",
       "    .dataframe tbody tr th {\n",
       "        vertical-align: top;\n",
       "    }\n",
       "\n",
       "    .dataframe thead th {\n",
       "        text-align: right;\n",
       "    }\n",
       "</style>\n",
       "<table border=\"1\" class=\"dataframe\">\n",
       "  <thead>\n",
       "    <tr style=\"text-align: right;\">\n",
       "      <th></th>\n",
       "      <th>amount</th>\n",
       "      <th>transaction_hour</th>\n",
       "      <th>is_international</th>\n",
       "      <th>previous_transactions</th>\n",
       "      <th>failed_transactions</th>\n",
       "      <th>account_age_days</th>\n",
       "      <th>is_fraud</th>\n",
       "      <th>Date</th>\n",
       "    </tr>\n",
       "  </thead>\n",
       "  <tbody>\n",
       "    <tr>\n",
       "      <th>amount</th>\n",
       "      <td>1.000000</td>\n",
       "      <td>0.003716</td>\n",
       "      <td>0.001583</td>\n",
       "      <td>-0.001661</td>\n",
       "      <td>0.009404</td>\n",
       "      <td>0.000637</td>\n",
       "      <td>0.397843</td>\n",
       "      <td>0.011816</td>\n",
       "    </tr>\n",
       "    <tr>\n",
       "      <th>transaction_hour</th>\n",
       "      <td>0.003716</td>\n",
       "      <td>1.000000</td>\n",
       "      <td>0.005081</td>\n",
       "      <td>-0.003468</td>\n",
       "      <td>-0.006203</td>\n",
       "      <td>-0.007688</td>\n",
       "      <td>-0.053115</td>\n",
       "      <td>0.010489</td>\n",
       "    </tr>\n",
       "    <tr>\n",
       "      <th>is_international</th>\n",
       "      <td>0.001583</td>\n",
       "      <td>0.005081</td>\n",
       "      <td>1.000000</td>\n",
       "      <td>0.007678</td>\n",
       "      <td>0.006666</td>\n",
       "      <td>-0.003657</td>\n",
       "      <td>0.322809</td>\n",
       "      <td>-0.017530</td>\n",
       "    </tr>\n",
       "    <tr>\n",
       "      <th>previous_transactions</th>\n",
       "      <td>-0.001661</td>\n",
       "      <td>-0.003468</td>\n",
       "      <td>0.007678</td>\n",
       "      <td>1.000000</td>\n",
       "      <td>-0.007861</td>\n",
       "      <td>0.002311</td>\n",
       "      <td>-0.005041</td>\n",
       "      <td>0.016222</td>\n",
       "    </tr>\n",
       "    <tr>\n",
       "      <th>failed_transactions</th>\n",
       "      <td>0.009404</td>\n",
       "      <td>-0.006203</td>\n",
       "      <td>0.006666</td>\n",
       "      <td>-0.007861</td>\n",
       "      <td>1.000000</td>\n",
       "      <td>-0.004376</td>\n",
       "      <td>0.451446</td>\n",
       "      <td>0.002396</td>\n",
       "    </tr>\n",
       "    <tr>\n",
       "      <th>account_age_days</th>\n",
       "      <td>0.000637</td>\n",
       "      <td>-0.007688</td>\n",
       "      <td>-0.003657</td>\n",
       "      <td>0.002311</td>\n",
       "      <td>-0.004376</td>\n",
       "      <td>1.000000</td>\n",
       "      <td>-0.052839</td>\n",
       "      <td>-0.005084</td>\n",
       "    </tr>\n",
       "    <tr>\n",
       "      <th>is_fraud</th>\n",
       "      <td>0.397843</td>\n",
       "      <td>-0.053115</td>\n",
       "      <td>0.322809</td>\n",
       "      <td>-0.005041</td>\n",
       "      <td>0.451446</td>\n",
       "      <td>-0.052839</td>\n",
       "      <td>1.000000</td>\n",
       "      <td>-0.019141</td>\n",
       "    </tr>\n",
       "    <tr>\n",
       "      <th>Date</th>\n",
       "      <td>0.011816</td>\n",
       "      <td>0.010489</td>\n",
       "      <td>-0.017530</td>\n",
       "      <td>0.016222</td>\n",
       "      <td>0.002396</td>\n",
       "      <td>-0.005084</td>\n",
       "      <td>-0.019141</td>\n",
       "      <td>1.000000</td>\n",
       "    </tr>\n",
       "  </tbody>\n",
       "</table>\n",
       "</div>"
      ],
      "text/plain": [
       "                         amount  transaction_hour  is_international  \\\n",
       "amount                 1.000000          0.003716          0.001583   \n",
       "transaction_hour       0.003716          1.000000          0.005081   \n",
       "is_international       0.001583          0.005081          1.000000   \n",
       "previous_transactions -0.001661         -0.003468          0.007678   \n",
       "failed_transactions    0.009404         -0.006203          0.006666   \n",
       "account_age_days       0.000637         -0.007688         -0.003657   \n",
       "is_fraud               0.397843         -0.053115          0.322809   \n",
       "Date                   0.011816          0.010489         -0.017530   \n",
       "\n",
       "                       previous_transactions  failed_transactions  \\\n",
       "amount                             -0.001661             0.009404   \n",
       "transaction_hour                   -0.003468            -0.006203   \n",
       "is_international                    0.007678             0.006666   \n",
       "previous_transactions               1.000000            -0.007861   \n",
       "failed_transactions                -0.007861             1.000000   \n",
       "account_age_days                    0.002311            -0.004376   \n",
       "is_fraud                           -0.005041             0.451446   \n",
       "Date                                0.016222             0.002396   \n",
       "\n",
       "                       account_age_days  is_fraud      Date  \n",
       "amount                         0.000637  0.397843  0.011816  \n",
       "transaction_hour              -0.007688 -0.053115  0.010489  \n",
       "is_international              -0.003657  0.322809 -0.017530  \n",
       "previous_transactions          0.002311 -0.005041  0.016222  \n",
       "failed_transactions           -0.004376  0.451446  0.002396  \n",
       "account_age_days               1.000000 -0.052839 -0.005084  \n",
       "is_fraud                      -0.052839  1.000000 -0.019141  \n",
       "Date                          -0.005084 -0.019141  1.000000  "
      ]
     },
     "execution_count": 421,
     "metadata": {},
     "output_type": "execute_result"
    }
   ],
   "source": [
    "df.corr(numeric_only=True)"
   ]
  },
  {
   "cell_type": "code",
   "execution_count": 422,
   "id": "0dbe65e2-b26f-46c0-a369-64da502be101",
   "metadata": {},
   "outputs": [],
   "source": [
    "from sklearn.neighbors import KNeighborsClassifier\n",
    "from sklearn.metrics import accuracy_score"
   ]
  },
  {
   "cell_type": "code",
   "execution_count": 423,
   "id": "6a342ee3-6003-4dd3-b045-0d8e2109c228",
   "metadata": {},
   "outputs": [
    {
     "data": {
      "text/plain": [
       "Index(['transaction_id', 'user_id', 'amount', 'transaction_type',\n",
       "       'device_type', 'location', 'time_of_day', 'transaction_hour',\n",
       "       'is_international', 'previous_transactions', 'failed_transactions',\n",
       "       'account_age_days', 'is_fraud', 'Date', 'Transaction Platform'],\n",
       "      dtype='object')"
      ]
     },
     "execution_count": 423,
     "metadata": {},
     "output_type": "execute_result"
    }
   ],
   "source": [
    "df.columns"
   ]
  },
  {
   "cell_type": "code",
   "execution_count": 424,
   "id": "bfc296fd-fc09-40af-b675-891e624c7802",
   "metadata": {},
   "outputs": [
    {
     "data": {
      "text/plain": [
       "0     PhonePe\n",
       "1        GPay\n",
       "2    BharatPe\n",
       "6      Paypal\n",
       "8      Others\n",
       "9       Paytm\n",
       "Name: Transaction Platform, dtype: object"
      ]
     },
     "execution_count": 424,
     "metadata": {},
     "output_type": "execute_result"
    }
   ],
   "source": [
    "platforms = df['Transaction Platform'].drop_duplicates(keep='first')\n",
    "platforms"
   ]
  },
  {
   "cell_type": "code",
   "execution_count": 425,
   "id": "2cdb2f18-ff0c-49ec-b4ca-7a11cde2c00e",
   "metadata": {},
   "outputs": [],
   "source": [
    "# Define the mapping\n",
    "platform_map = {\n",
    "    'GPay': 0,\n",
    "    'Paytm': 1,\n",
    "    'PhonePe': 2,\n",
    "    'BharatPe': 3,\n",
    "    'Paypal': 4,\n",
    "    'Others': 5\n",
    "}"
   ]
  },
  {
   "cell_type": "code",
   "execution_count": 426,
   "id": "10f3bc5b-2504-4423-9c5b-8c9534a72380",
   "metadata": {},
   "outputs": [],
   "source": [
    "input = df[['amount','Date','location','transaction_hour','Transaction Platform']]\n",
    "input.loc[:, 'Transaction Platform'] = input['Transaction Platform'].map(platform_map)"
   ]
  },
  {
   "cell_type": "code",
   "execution_count": 427,
   "id": "5ffe2b5b-4718-415b-8476-d01bbb917fc1",
   "metadata": {},
   "outputs": [
    {
     "data": {
      "text/plain": [
       "0     Singapore\n",
       "2         Dubai\n",
       "3       Kolkata\n",
       "4         Delhi\n",
       "5          Pune\n",
       "6     Bangalore\n",
       "8       Chennai\n",
       "10     New York\n",
       "17       Mumbai\n",
       "38       London\n",
       "Name: location, dtype: object"
      ]
     },
     "execution_count": 427,
     "metadata": {},
     "output_type": "execute_result"
    }
   ],
   "source": [
    "locations = df['location'].drop_duplicates(keep='first')\n",
    "locations"
   ]
  },
  {
   "cell_type": "code",
   "execution_count": 428,
   "id": "cfbb5ae9-7618-4b01-9fd1-6181d4653dc5",
   "metadata": {},
   "outputs": [],
   "source": [
    "loc_map={\n",
    "    'Singapore': 0,\n",
    "    'Dubai': 1,\n",
    "    'Kolkata': 2,\n",
    "    'Delhi': 3,\n",
    "    'Pune': 4,\n",
    "    'Bangalore': 5,\n",
    "    'Chennai': 6,\n",
    "    'New York': 7,\n",
    "    'Mumbai': 8,\n",
    "    'London': 9\n",
    "}"
   ]
  },
  {
   "cell_type": "code",
   "execution_count": 429,
   "id": "0faa0d3c-4acf-4135-9d0d-bd671ec091fa",
   "metadata": {},
   "outputs": [],
   "source": [
    "input.loc[:, 'location'] = input['location'].map(loc_map)"
   ]
  },
  {
   "cell_type": "code",
   "execution_count": 430,
   "id": "d5043d87-3b7d-4877-82ee-06226525faaa",
   "metadata": {},
   "outputs": [
    {
     "data": {
      "text/html": [
       "<div>\n",
       "<style scoped>\n",
       "    .dataframe tbody tr th:only-of-type {\n",
       "        vertical-align: middle;\n",
       "    }\n",
       "\n",
       "    .dataframe tbody tr th {\n",
       "        vertical-align: top;\n",
       "    }\n",
       "\n",
       "    .dataframe thead th {\n",
       "        text-align: right;\n",
       "    }\n",
       "</style>\n",
       "<table border=\"1\" class=\"dataframe\">\n",
       "  <thead>\n",
       "    <tr style=\"text-align: right;\">\n",
       "      <th></th>\n",
       "      <th>amount</th>\n",
       "      <th>Date</th>\n",
       "      <th>location</th>\n",
       "      <th>transaction_hour</th>\n",
       "      <th>Transaction Platform</th>\n",
       "    </tr>\n",
       "  </thead>\n",
       "  <tbody>\n",
       "    <tr>\n",
       "      <th>0</th>\n",
       "      <td>43574.75</td>\n",
       "      <td>4092017</td>\n",
       "      <td>0</td>\n",
       "      <td>9</td>\n",
       "      <td>2</td>\n",
       "    </tr>\n",
       "    <tr>\n",
       "      <th>1</th>\n",
       "      <td>104351.51</td>\n",
       "      <td>18022020</td>\n",
       "      <td>0</td>\n",
       "      <td>1</td>\n",
       "      <td>0</td>\n",
       "    </tr>\n",
       "    <tr>\n",
       "      <th>2</th>\n",
       "      <td>211864.52</td>\n",
       "      <td>29052020</td>\n",
       "      <td>1</td>\n",
       "      <td>13</td>\n",
       "      <td>3</td>\n",
       "    </tr>\n",
       "    <tr>\n",
       "      <th>3</th>\n",
       "      <td>280370.03</td>\n",
       "      <td>18072022</td>\n",
       "      <td>2</td>\n",
       "      <td>15</td>\n",
       "      <td>0</td>\n",
       "    </tr>\n",
       "    <tr>\n",
       "      <th>4</th>\n",
       "      <td>216222.76</td>\n",
       "      <td>5072021</td>\n",
       "      <td>3</td>\n",
       "      <td>17</td>\n",
       "      <td>3</td>\n",
       "    </tr>\n",
       "    <tr>\n",
       "      <th>5</th>\n",
       "      <td>156210.96</td>\n",
       "      <td>11012016</td>\n",
       "      <td>4</td>\n",
       "      <td>15</td>\n",
       "      <td>2</td>\n",
       "    </tr>\n",
       "    <tr>\n",
       "      <th>6</th>\n",
       "      <td>139215.46</td>\n",
       "      <td>8072023</td>\n",
       "      <td>5</td>\n",
       "      <td>4</td>\n",
       "      <td>4</td>\n",
       "    </tr>\n",
       "    <tr>\n",
       "      <th>7</th>\n",
       "      <td>79802.98</td>\n",
       "      <td>24122024</td>\n",
       "      <td>3</td>\n",
       "      <td>19</td>\n",
       "      <td>2</td>\n",
       "    </tr>\n",
       "    <tr>\n",
       "      <th>8</th>\n",
       "      <td>60807.93</td>\n",
       "      <td>11042018</td>\n",
       "      <td>6</td>\n",
       "      <td>10</td>\n",
       "      <td>5</td>\n",
       "    </tr>\n",
       "    <tr>\n",
       "      <th>9</th>\n",
       "      <td>138341.53</td>\n",
       "      <td>1032020</td>\n",
       "      <td>2</td>\n",
       "      <td>23</td>\n",
       "      <td>1</td>\n",
       "    </tr>\n",
       "  </tbody>\n",
       "</table>\n",
       "</div>"
      ],
      "text/plain": [
       "      amount      Date location  transaction_hour Transaction Platform\n",
       "0   43574.75   4092017        0                 9                    2\n",
       "1  104351.51  18022020        0                 1                    0\n",
       "2  211864.52  29052020        1                13                    3\n",
       "3  280370.03  18072022        2                15                    0\n",
       "4  216222.76   5072021        3                17                    3\n",
       "5  156210.96  11012016        4                15                    2\n",
       "6  139215.46   8072023        5                 4                    4\n",
       "7   79802.98  24122024        3                19                    2\n",
       "8   60807.93  11042018        6                10                    5\n",
       "9  138341.53   1032020        2                23                    1"
      ]
     },
     "execution_count": 430,
     "metadata": {},
     "output_type": "execute_result"
    }
   ],
   "source": [
    "input.head(10)"
   ]
  },
  {
   "cell_type": "code",
   "execution_count": 431,
   "id": "aa4bf55b-bd89-480e-89ad-24c046f96e98",
   "metadata": {},
   "outputs": [
    {
     "data": {
      "text/plain": [
       "0       0\n",
       "1       1\n",
       "2       1\n",
       "3       1\n",
       "4       0\n",
       "       ..\n",
       "9995    1\n",
       "9996    1\n",
       "9997    0\n",
       "9998    0\n",
       "9999    1\n",
       "Name: is_fraud, Length: 10000, dtype: int64"
      ]
     },
     "execution_count": 431,
     "metadata": {},
     "output_type": "execute_result"
    }
   ],
   "source": [
    "output = df['is_fraud']\n",
    "output"
   ]
  },
  {
   "cell_type": "code",
   "execution_count": 433,
   "id": "5f80cf1b-3e74-4f6e-82ab-8c265c000e1d",
   "metadata": {},
   "outputs": [],
   "source": [
    "from sklearn.model_selection import train_test_split\n",
    "X_Train,X_Test,Y_Train,Y_Test = train_test_split(input,output,test_size=0.2,random_state=42)\n",
    "from sklearn.preprocessing import StandardScaler"
   ]
  },
  {
   "cell_type": "code",
   "execution_count": 436,
   "id": "3910113f-aeb5-4e27-b062-bdc3a72ec081",
   "metadata": {},
   "outputs": [],
   "source": [
    "scaler = StandardScaler()\n",
    "input_train = scaler.fit_transform(X_Train)\n",
    "input_test = scaler.fit_transform(X_Test)\n",
    "\n",
    "#Only scaling  input is required as multidimensional input"
   ]
  },
  {
   "cell_type": "code",
   "execution_count": 437,
   "id": "5c6d5ee6-58f4-4d31-8ae6-7d717422016d",
   "metadata": {},
   "outputs": [],
   "source": [
    "knn = KNeighborsClassifier(n_neighbors=5) #Initialise the model"
   ]
  },
  {
   "cell_type": "code",
   "execution_count": 439,
   "id": "b700d4c6-c78c-4e34-ada7-afab211f7b16",
   "metadata": {},
   "outputs": [
    {
     "data": {
      "text/html": [
       "<style>#sk-container-id-1 {\n",
       "  /* Definition of color scheme common for light and dark mode */\n",
       "  --sklearn-color-text: #000;\n",
       "  --sklearn-color-text-muted: #666;\n",
       "  --sklearn-color-line: gray;\n",
       "  /* Definition of color scheme for unfitted estimators */\n",
       "  --sklearn-color-unfitted-level-0: #fff5e6;\n",
       "  --sklearn-color-unfitted-level-1: #f6e4d2;\n",
       "  --sklearn-color-unfitted-level-2: #ffe0b3;\n",
       "  --sklearn-color-unfitted-level-3: chocolate;\n",
       "  /* Definition of color scheme for fitted estimators */\n",
       "  --sklearn-color-fitted-level-0: #f0f8ff;\n",
       "  --sklearn-color-fitted-level-1: #d4ebff;\n",
       "  --sklearn-color-fitted-level-2: #b3dbfd;\n",
       "  --sklearn-color-fitted-level-3: cornflowerblue;\n",
       "\n",
       "  /* Specific color for light theme */\n",
       "  --sklearn-color-text-on-default-background: var(--sg-text-color, var(--theme-code-foreground, var(--jp-content-font-color1, black)));\n",
       "  --sklearn-color-background: var(--sg-background-color, var(--theme-background, var(--jp-layout-color0, white)));\n",
       "  --sklearn-color-border-box: var(--sg-text-color, var(--theme-code-foreground, var(--jp-content-font-color1, black)));\n",
       "  --sklearn-color-icon: #696969;\n",
       "\n",
       "  @media (prefers-color-scheme: dark) {\n",
       "    /* Redefinition of color scheme for dark theme */\n",
       "    --sklearn-color-text-on-default-background: var(--sg-text-color, var(--theme-code-foreground, var(--jp-content-font-color1, white)));\n",
       "    --sklearn-color-background: var(--sg-background-color, var(--theme-background, var(--jp-layout-color0, #111)));\n",
       "    --sklearn-color-border-box: var(--sg-text-color, var(--theme-code-foreground, var(--jp-content-font-color1, white)));\n",
       "    --sklearn-color-icon: #878787;\n",
       "  }\n",
       "}\n",
       "\n",
       "#sk-container-id-1 {\n",
       "  color: var(--sklearn-color-text);\n",
       "}\n",
       "\n",
       "#sk-container-id-1 pre {\n",
       "  padding: 0;\n",
       "}\n",
       "\n",
       "#sk-container-id-1 input.sk-hidden--visually {\n",
       "  border: 0;\n",
       "  clip: rect(1px 1px 1px 1px);\n",
       "  clip: rect(1px, 1px, 1px, 1px);\n",
       "  height: 1px;\n",
       "  margin: -1px;\n",
       "  overflow: hidden;\n",
       "  padding: 0;\n",
       "  position: absolute;\n",
       "  width: 1px;\n",
       "}\n",
       "\n",
       "#sk-container-id-1 div.sk-dashed-wrapped {\n",
       "  border: 1px dashed var(--sklearn-color-line);\n",
       "  margin: 0 0.4em 0.5em 0.4em;\n",
       "  box-sizing: border-box;\n",
       "  padding-bottom: 0.4em;\n",
       "  background-color: var(--sklearn-color-background);\n",
       "}\n",
       "\n",
       "#sk-container-id-1 div.sk-container {\n",
       "  /* jupyter's `normalize.less` sets `[hidden] { display: none; }`\n",
       "     but bootstrap.min.css set `[hidden] { display: none !important; }`\n",
       "     so we also need the `!important` here to be able to override the\n",
       "     default hidden behavior on the sphinx rendered scikit-learn.org.\n",
       "     See: https://github.com/scikit-learn/scikit-learn/issues/21755 */\n",
       "  display: inline-block !important;\n",
       "  position: relative;\n",
       "}\n",
       "\n",
       "#sk-container-id-1 div.sk-text-repr-fallback {\n",
       "  display: none;\n",
       "}\n",
       "\n",
       "div.sk-parallel-item,\n",
       "div.sk-serial,\n",
       "div.sk-item {\n",
       "  /* draw centered vertical line to link estimators */\n",
       "  background-image: linear-gradient(var(--sklearn-color-text-on-default-background), var(--sklearn-color-text-on-default-background));\n",
       "  background-size: 2px 100%;\n",
       "  background-repeat: no-repeat;\n",
       "  background-position: center center;\n",
       "}\n",
       "\n",
       "/* Parallel-specific style estimator block */\n",
       "\n",
       "#sk-container-id-1 div.sk-parallel-item::after {\n",
       "  content: \"\";\n",
       "  width: 100%;\n",
       "  border-bottom: 2px solid var(--sklearn-color-text-on-default-background);\n",
       "  flex-grow: 1;\n",
       "}\n",
       "\n",
       "#sk-container-id-1 div.sk-parallel {\n",
       "  display: flex;\n",
       "  align-items: stretch;\n",
       "  justify-content: center;\n",
       "  background-color: var(--sklearn-color-background);\n",
       "  position: relative;\n",
       "}\n",
       "\n",
       "#sk-container-id-1 div.sk-parallel-item {\n",
       "  display: flex;\n",
       "  flex-direction: column;\n",
       "}\n",
       "\n",
       "#sk-container-id-1 div.sk-parallel-item:first-child::after {\n",
       "  align-self: flex-end;\n",
       "  width: 50%;\n",
       "}\n",
       "\n",
       "#sk-container-id-1 div.sk-parallel-item:last-child::after {\n",
       "  align-self: flex-start;\n",
       "  width: 50%;\n",
       "}\n",
       "\n",
       "#sk-container-id-1 div.sk-parallel-item:only-child::after {\n",
       "  width: 0;\n",
       "}\n",
       "\n",
       "/* Serial-specific style estimator block */\n",
       "\n",
       "#sk-container-id-1 div.sk-serial {\n",
       "  display: flex;\n",
       "  flex-direction: column;\n",
       "  align-items: center;\n",
       "  background-color: var(--sklearn-color-background);\n",
       "  padding-right: 1em;\n",
       "  padding-left: 1em;\n",
       "}\n",
       "\n",
       "\n",
       "/* Toggleable style: style used for estimator/Pipeline/ColumnTransformer box that is\n",
       "clickable and can be expanded/collapsed.\n",
       "- Pipeline and ColumnTransformer use this feature and define the default style\n",
       "- Estimators will overwrite some part of the style using the `sk-estimator` class\n",
       "*/\n",
       "\n",
       "/* Pipeline and ColumnTransformer style (default) */\n",
       "\n",
       "#sk-container-id-1 div.sk-toggleable {\n",
       "  /* Default theme specific background. It is overwritten whether we have a\n",
       "  specific estimator or a Pipeline/ColumnTransformer */\n",
       "  background-color: var(--sklearn-color-background);\n",
       "}\n",
       "\n",
       "/* Toggleable label */\n",
       "#sk-container-id-1 label.sk-toggleable__label {\n",
       "  cursor: pointer;\n",
       "  display: flex;\n",
       "  width: 100%;\n",
       "  margin-bottom: 0;\n",
       "  padding: 0.5em;\n",
       "  box-sizing: border-box;\n",
       "  text-align: center;\n",
       "  align-items: start;\n",
       "  justify-content: space-between;\n",
       "  gap: 0.5em;\n",
       "}\n",
       "\n",
       "#sk-container-id-1 label.sk-toggleable__label .caption {\n",
       "  font-size: 0.6rem;\n",
       "  font-weight: lighter;\n",
       "  color: var(--sklearn-color-text-muted);\n",
       "}\n",
       "\n",
       "#sk-container-id-1 label.sk-toggleable__label-arrow:before {\n",
       "  /* Arrow on the left of the label */\n",
       "  content: \"▸\";\n",
       "  float: left;\n",
       "  margin-right: 0.25em;\n",
       "  color: var(--sklearn-color-icon);\n",
       "}\n",
       "\n",
       "#sk-container-id-1 label.sk-toggleable__label-arrow:hover:before {\n",
       "  color: var(--sklearn-color-text);\n",
       "}\n",
       "\n",
       "/* Toggleable content - dropdown */\n",
       "\n",
       "#sk-container-id-1 div.sk-toggleable__content {\n",
       "  display: none;\n",
       "  text-align: left;\n",
       "  /* unfitted */\n",
       "  background-color: var(--sklearn-color-unfitted-level-0);\n",
       "}\n",
       "\n",
       "#sk-container-id-1 div.sk-toggleable__content.fitted {\n",
       "  /* fitted */\n",
       "  background-color: var(--sklearn-color-fitted-level-0);\n",
       "}\n",
       "\n",
       "#sk-container-id-1 div.sk-toggleable__content pre {\n",
       "  margin: 0.2em;\n",
       "  border-radius: 0.25em;\n",
       "  color: var(--sklearn-color-text);\n",
       "  /* unfitted */\n",
       "  background-color: var(--sklearn-color-unfitted-level-0);\n",
       "}\n",
       "\n",
       "#sk-container-id-1 div.sk-toggleable__content.fitted pre {\n",
       "  /* unfitted */\n",
       "  background-color: var(--sklearn-color-fitted-level-0);\n",
       "}\n",
       "\n",
       "#sk-container-id-1 input.sk-toggleable__control:checked~div.sk-toggleable__content {\n",
       "  /* Expand drop-down */\n",
       "  display: block;\n",
       "  width: 100%;\n",
       "  overflow: visible;\n",
       "}\n",
       "\n",
       "#sk-container-id-1 input.sk-toggleable__control:checked~label.sk-toggleable__label-arrow:before {\n",
       "  content: \"▾\";\n",
       "}\n",
       "\n",
       "/* Pipeline/ColumnTransformer-specific style */\n",
       "\n",
       "#sk-container-id-1 div.sk-label input.sk-toggleable__control:checked~label.sk-toggleable__label {\n",
       "  color: var(--sklearn-color-text);\n",
       "  background-color: var(--sklearn-color-unfitted-level-2);\n",
       "}\n",
       "\n",
       "#sk-container-id-1 div.sk-label.fitted input.sk-toggleable__control:checked~label.sk-toggleable__label {\n",
       "  background-color: var(--sklearn-color-fitted-level-2);\n",
       "}\n",
       "\n",
       "/* Estimator-specific style */\n",
       "\n",
       "/* Colorize estimator box */\n",
       "#sk-container-id-1 div.sk-estimator input.sk-toggleable__control:checked~label.sk-toggleable__label {\n",
       "  /* unfitted */\n",
       "  background-color: var(--sklearn-color-unfitted-level-2);\n",
       "}\n",
       "\n",
       "#sk-container-id-1 div.sk-estimator.fitted input.sk-toggleable__control:checked~label.sk-toggleable__label {\n",
       "  /* fitted */\n",
       "  background-color: var(--sklearn-color-fitted-level-2);\n",
       "}\n",
       "\n",
       "#sk-container-id-1 div.sk-label label.sk-toggleable__label,\n",
       "#sk-container-id-1 div.sk-label label {\n",
       "  /* The background is the default theme color */\n",
       "  color: var(--sklearn-color-text-on-default-background);\n",
       "}\n",
       "\n",
       "/* On hover, darken the color of the background */\n",
       "#sk-container-id-1 div.sk-label:hover label.sk-toggleable__label {\n",
       "  color: var(--sklearn-color-text);\n",
       "  background-color: var(--sklearn-color-unfitted-level-2);\n",
       "}\n",
       "\n",
       "/* Label box, darken color on hover, fitted */\n",
       "#sk-container-id-1 div.sk-label.fitted:hover label.sk-toggleable__label.fitted {\n",
       "  color: var(--sklearn-color-text);\n",
       "  background-color: var(--sklearn-color-fitted-level-2);\n",
       "}\n",
       "\n",
       "/* Estimator label */\n",
       "\n",
       "#sk-container-id-1 div.sk-label label {\n",
       "  font-family: monospace;\n",
       "  font-weight: bold;\n",
       "  display: inline-block;\n",
       "  line-height: 1.2em;\n",
       "}\n",
       "\n",
       "#sk-container-id-1 div.sk-label-container {\n",
       "  text-align: center;\n",
       "}\n",
       "\n",
       "/* Estimator-specific */\n",
       "#sk-container-id-1 div.sk-estimator {\n",
       "  font-family: monospace;\n",
       "  border: 1px dotted var(--sklearn-color-border-box);\n",
       "  border-radius: 0.25em;\n",
       "  box-sizing: border-box;\n",
       "  margin-bottom: 0.5em;\n",
       "  /* unfitted */\n",
       "  background-color: var(--sklearn-color-unfitted-level-0);\n",
       "}\n",
       "\n",
       "#sk-container-id-1 div.sk-estimator.fitted {\n",
       "  /* fitted */\n",
       "  background-color: var(--sklearn-color-fitted-level-0);\n",
       "}\n",
       "\n",
       "/* on hover */\n",
       "#sk-container-id-1 div.sk-estimator:hover {\n",
       "  /* unfitted */\n",
       "  background-color: var(--sklearn-color-unfitted-level-2);\n",
       "}\n",
       "\n",
       "#sk-container-id-1 div.sk-estimator.fitted:hover {\n",
       "  /* fitted */\n",
       "  background-color: var(--sklearn-color-fitted-level-2);\n",
       "}\n",
       "\n",
       "/* Specification for estimator info (e.g. \"i\" and \"?\") */\n",
       "\n",
       "/* Common style for \"i\" and \"?\" */\n",
       "\n",
       ".sk-estimator-doc-link,\n",
       "a:link.sk-estimator-doc-link,\n",
       "a:visited.sk-estimator-doc-link {\n",
       "  float: right;\n",
       "  font-size: smaller;\n",
       "  line-height: 1em;\n",
       "  font-family: monospace;\n",
       "  background-color: var(--sklearn-color-background);\n",
       "  border-radius: 1em;\n",
       "  height: 1em;\n",
       "  width: 1em;\n",
       "  text-decoration: none !important;\n",
       "  margin-left: 0.5em;\n",
       "  text-align: center;\n",
       "  /* unfitted */\n",
       "  border: var(--sklearn-color-unfitted-level-1) 1pt solid;\n",
       "  color: var(--sklearn-color-unfitted-level-1);\n",
       "}\n",
       "\n",
       ".sk-estimator-doc-link.fitted,\n",
       "a:link.sk-estimator-doc-link.fitted,\n",
       "a:visited.sk-estimator-doc-link.fitted {\n",
       "  /* fitted */\n",
       "  border: var(--sklearn-color-fitted-level-1) 1pt solid;\n",
       "  color: var(--sklearn-color-fitted-level-1);\n",
       "}\n",
       "\n",
       "/* On hover */\n",
       "div.sk-estimator:hover .sk-estimator-doc-link:hover,\n",
       ".sk-estimator-doc-link:hover,\n",
       "div.sk-label-container:hover .sk-estimator-doc-link:hover,\n",
       ".sk-estimator-doc-link:hover {\n",
       "  /* unfitted */\n",
       "  background-color: var(--sklearn-color-unfitted-level-3);\n",
       "  color: var(--sklearn-color-background);\n",
       "  text-decoration: none;\n",
       "}\n",
       "\n",
       "div.sk-estimator.fitted:hover .sk-estimator-doc-link.fitted:hover,\n",
       ".sk-estimator-doc-link.fitted:hover,\n",
       "div.sk-label-container:hover .sk-estimator-doc-link.fitted:hover,\n",
       ".sk-estimator-doc-link.fitted:hover {\n",
       "  /* fitted */\n",
       "  background-color: var(--sklearn-color-fitted-level-3);\n",
       "  color: var(--sklearn-color-background);\n",
       "  text-decoration: none;\n",
       "}\n",
       "\n",
       "/* Span, style for the box shown on hovering the info icon */\n",
       ".sk-estimator-doc-link span {\n",
       "  display: none;\n",
       "  z-index: 9999;\n",
       "  position: relative;\n",
       "  font-weight: normal;\n",
       "  right: .2ex;\n",
       "  padding: .5ex;\n",
       "  margin: .5ex;\n",
       "  width: min-content;\n",
       "  min-width: 20ex;\n",
       "  max-width: 50ex;\n",
       "  color: var(--sklearn-color-text);\n",
       "  box-shadow: 2pt 2pt 4pt #999;\n",
       "  /* unfitted */\n",
       "  background: var(--sklearn-color-unfitted-level-0);\n",
       "  border: .5pt solid var(--sklearn-color-unfitted-level-3);\n",
       "}\n",
       "\n",
       ".sk-estimator-doc-link.fitted span {\n",
       "  /* fitted */\n",
       "  background: var(--sklearn-color-fitted-level-0);\n",
       "  border: var(--sklearn-color-fitted-level-3);\n",
       "}\n",
       "\n",
       ".sk-estimator-doc-link:hover span {\n",
       "  display: block;\n",
       "}\n",
       "\n",
       "/* \"?\"-specific style due to the `<a>` HTML tag */\n",
       "\n",
       "#sk-container-id-1 a.estimator_doc_link {\n",
       "  float: right;\n",
       "  font-size: 1rem;\n",
       "  line-height: 1em;\n",
       "  font-family: monospace;\n",
       "  background-color: var(--sklearn-color-background);\n",
       "  border-radius: 1rem;\n",
       "  height: 1rem;\n",
       "  width: 1rem;\n",
       "  text-decoration: none;\n",
       "  /* unfitted */\n",
       "  color: var(--sklearn-color-unfitted-level-1);\n",
       "  border: var(--sklearn-color-unfitted-level-1) 1pt solid;\n",
       "}\n",
       "\n",
       "#sk-container-id-1 a.estimator_doc_link.fitted {\n",
       "  /* fitted */\n",
       "  border: var(--sklearn-color-fitted-level-1) 1pt solid;\n",
       "  color: var(--sklearn-color-fitted-level-1);\n",
       "}\n",
       "\n",
       "/* On hover */\n",
       "#sk-container-id-1 a.estimator_doc_link:hover {\n",
       "  /* unfitted */\n",
       "  background-color: var(--sklearn-color-unfitted-level-3);\n",
       "  color: var(--sklearn-color-background);\n",
       "  text-decoration: none;\n",
       "}\n",
       "\n",
       "#sk-container-id-1 a.estimator_doc_link.fitted:hover {\n",
       "  /* fitted */\n",
       "  background-color: var(--sklearn-color-fitted-level-3);\n",
       "}\n",
       "\n",
       ".estimator-table summary {\n",
       "    padding: .5rem;\n",
       "    font-family: monospace;\n",
       "    cursor: pointer;\n",
       "}\n",
       "\n",
       ".estimator-table details[open] {\n",
       "    padding-left: 0.1rem;\n",
       "    padding-right: 0.1rem;\n",
       "    padding-bottom: 0.3rem;\n",
       "}\n",
       "\n",
       ".estimator-table .parameters-table {\n",
       "    margin-left: auto !important;\n",
       "    margin-right: auto !important;\n",
       "}\n",
       "\n",
       ".estimator-table .parameters-table tr:nth-child(odd) {\n",
       "    background-color: #fff;\n",
       "}\n",
       "\n",
       ".estimator-table .parameters-table tr:nth-child(even) {\n",
       "    background-color: #f6f6f6;\n",
       "}\n",
       "\n",
       ".estimator-table .parameters-table tr:hover {\n",
       "    background-color: #e0e0e0;\n",
       "}\n",
       "\n",
       ".estimator-table table td {\n",
       "    border: 1px solid rgba(106, 105, 104, 0.232);\n",
       "}\n",
       "\n",
       ".user-set td {\n",
       "    color:rgb(255, 94, 0);\n",
       "    text-align: left;\n",
       "}\n",
       "\n",
       ".user-set td.value pre {\n",
       "    color:rgb(255, 94, 0) !important;\n",
       "    background-color: transparent !important;\n",
       "}\n",
       "\n",
       ".default td {\n",
       "    color: black;\n",
       "    text-align: left;\n",
       "}\n",
       "\n",
       ".user-set td i,\n",
       ".default td i {\n",
       "    color: black;\n",
       "}\n",
       "\n",
       ".copy-paste-icon {\n",
       "    background-image: url(data:image/svg+xml;base64,PHN2ZyB4bWxucz0iaHR0cDovL3d3dy53My5vcmcvMjAwMC9zdmciIHZpZXdCb3g9IjAgMCA0NDggNTEyIj48IS0tIUZvbnQgQXdlc29tZSBGcmVlIDYuNy4yIGJ5IEBmb250YXdlc29tZSAtIGh0dHBzOi8vZm9udGF3ZXNvbWUuY29tIExpY2Vuc2UgLSBodHRwczovL2ZvbnRhd2Vzb21lLmNvbS9saWNlbnNlL2ZyZWUgQ29weXJpZ2h0IDIwMjUgRm9udGljb25zLCBJbmMuLS0+PHBhdGggZD0iTTIwOCAwTDMzMi4xIDBjMTIuNyAwIDI0LjkgNS4xIDMzLjkgMTQuMWw2Ny45IDY3LjljOSA5IDE0LjEgMjEuMiAxNC4xIDMzLjlMNDQ4IDMzNmMwIDI2LjUtMjEuNSA0OC00OCA0OGwtMTkyIDBjLTI2LjUgMC00OC0yMS41LTQ4LTQ4bDAtMjg4YzAtMjYuNSAyMS41LTQ4IDQ4LTQ4ek00OCAxMjhsODAgMCAwIDY0LTY0IDAgMCAyNTYgMTkyIDAgMC0zMiA2NCAwIDAgNDhjMCAyNi41LTIxLjUgNDgtNDggNDhMNDggNTEyYy0yNi41IDAtNDgtMjEuNS00OC00OEwwIDE3NmMwLTI2LjUgMjEuNS00OCA0OC00OHoiLz48L3N2Zz4=);\n",
       "    background-repeat: no-repeat;\n",
       "    background-size: 14px 14px;\n",
       "    background-position: 0;\n",
       "    display: inline-block;\n",
       "    width: 14px;\n",
       "    height: 14px;\n",
       "    cursor: pointer;\n",
       "}\n",
       "</style><body><div id=\"sk-container-id-1\" class=\"sk-top-container\"><div class=\"sk-text-repr-fallback\"><pre>KNeighborsClassifier()</pre><b>In a Jupyter environment, please rerun this cell to show the HTML representation or trust the notebook. <br />On GitHub, the HTML representation is unable to render, please try loading this page with nbviewer.org.</b></div><div class=\"sk-container\" hidden><div class=\"sk-item\"><div class=\"sk-estimator fitted sk-toggleable\"><input class=\"sk-toggleable__control sk-hidden--visually\" id=\"sk-estimator-id-1\" type=\"checkbox\" checked><label for=\"sk-estimator-id-1\" class=\"sk-toggleable__label fitted sk-toggleable__label-arrow\"><div><div>KNeighborsClassifier</div></div><div><a class=\"sk-estimator-doc-link fitted\" rel=\"noreferrer\" target=\"_blank\" href=\"https://scikit-learn.org/1.7/modules/generated/sklearn.neighbors.KNeighborsClassifier.html\">?<span>Documentation for KNeighborsClassifier</span></a><span class=\"sk-estimator-doc-link fitted\">i<span>Fitted</span></span></div></label><div class=\"sk-toggleable__content fitted\" data-param-prefix=\"\">\n",
       "        <div class=\"estimator-table\">\n",
       "            <details>\n",
       "                <summary>Parameters</summary>\n",
       "                <table class=\"parameters-table\">\n",
       "                  <tbody>\n",
       "                    \n",
       "        <tr class=\"default\">\n",
       "            <td><i class=\"copy-paste-icon\"\n",
       "                 onclick=\"copyToClipboard('n_neighbors',\n",
       "                          this.parentElement.nextElementSibling)\"\n",
       "            ></i></td>\n",
       "            <td class=\"param\">n_neighbors&nbsp;</td>\n",
       "            <td class=\"value\">5</td>\n",
       "        </tr>\n",
       "    \n",
       "\n",
       "        <tr class=\"default\">\n",
       "            <td><i class=\"copy-paste-icon\"\n",
       "                 onclick=\"copyToClipboard('weights',\n",
       "                          this.parentElement.nextElementSibling)\"\n",
       "            ></i></td>\n",
       "            <td class=\"param\">weights&nbsp;</td>\n",
       "            <td class=\"value\">&#x27;uniform&#x27;</td>\n",
       "        </tr>\n",
       "    \n",
       "\n",
       "        <tr class=\"default\">\n",
       "            <td><i class=\"copy-paste-icon\"\n",
       "                 onclick=\"copyToClipboard('algorithm',\n",
       "                          this.parentElement.nextElementSibling)\"\n",
       "            ></i></td>\n",
       "            <td class=\"param\">algorithm&nbsp;</td>\n",
       "            <td class=\"value\">&#x27;auto&#x27;</td>\n",
       "        </tr>\n",
       "    \n",
       "\n",
       "        <tr class=\"default\">\n",
       "            <td><i class=\"copy-paste-icon\"\n",
       "                 onclick=\"copyToClipboard('leaf_size',\n",
       "                          this.parentElement.nextElementSibling)\"\n",
       "            ></i></td>\n",
       "            <td class=\"param\">leaf_size&nbsp;</td>\n",
       "            <td class=\"value\">30</td>\n",
       "        </tr>\n",
       "    \n",
       "\n",
       "        <tr class=\"default\">\n",
       "            <td><i class=\"copy-paste-icon\"\n",
       "                 onclick=\"copyToClipboard('p',\n",
       "                          this.parentElement.nextElementSibling)\"\n",
       "            ></i></td>\n",
       "            <td class=\"param\">p&nbsp;</td>\n",
       "            <td class=\"value\">2</td>\n",
       "        </tr>\n",
       "    \n",
       "\n",
       "        <tr class=\"default\">\n",
       "            <td><i class=\"copy-paste-icon\"\n",
       "                 onclick=\"copyToClipboard('metric',\n",
       "                          this.parentElement.nextElementSibling)\"\n",
       "            ></i></td>\n",
       "            <td class=\"param\">metric&nbsp;</td>\n",
       "            <td class=\"value\">&#x27;minkowski&#x27;</td>\n",
       "        </tr>\n",
       "    \n",
       "\n",
       "        <tr class=\"default\">\n",
       "            <td><i class=\"copy-paste-icon\"\n",
       "                 onclick=\"copyToClipboard('metric_params',\n",
       "                          this.parentElement.nextElementSibling)\"\n",
       "            ></i></td>\n",
       "            <td class=\"param\">metric_params&nbsp;</td>\n",
       "            <td class=\"value\">None</td>\n",
       "        </tr>\n",
       "    \n",
       "\n",
       "        <tr class=\"default\">\n",
       "            <td><i class=\"copy-paste-icon\"\n",
       "                 onclick=\"copyToClipboard('n_jobs',\n",
       "                          this.parentElement.nextElementSibling)\"\n",
       "            ></i></td>\n",
       "            <td class=\"param\">n_jobs&nbsp;</td>\n",
       "            <td class=\"value\">None</td>\n",
       "        </tr>\n",
       "    \n",
       "                  </tbody>\n",
       "                </table>\n",
       "            </details>\n",
       "        </div>\n",
       "    </div></div></div></div></div><script>function copyToClipboard(text, element) {\n",
       "    // Get the parameter prefix from the closest toggleable content\n",
       "    const toggleableContent = element.closest('.sk-toggleable__content');\n",
       "    const paramPrefix = toggleableContent ? toggleableContent.dataset.paramPrefix : '';\n",
       "    const fullParamName = paramPrefix ? `${paramPrefix}${text}` : text;\n",
       "\n",
       "    const originalStyle = element.style;\n",
       "    const computedStyle = window.getComputedStyle(element);\n",
       "    const originalWidth = computedStyle.width;\n",
       "    const originalHTML = element.innerHTML.replace('Copied!', '');\n",
       "\n",
       "    navigator.clipboard.writeText(fullParamName)\n",
       "        .then(() => {\n",
       "            element.style.width = originalWidth;\n",
       "            element.style.color = 'green';\n",
       "            element.innerHTML = \"Copied!\";\n",
       "\n",
       "            setTimeout(() => {\n",
       "                element.innerHTML = originalHTML;\n",
       "                element.style = originalStyle;\n",
       "            }, 2000);\n",
       "        })\n",
       "        .catch(err => {\n",
       "            console.error('Failed to copy:', err);\n",
       "            element.style.color = 'red';\n",
       "            element.innerHTML = \"Failed!\";\n",
       "            setTimeout(() => {\n",
       "                element.innerHTML = originalHTML;\n",
       "                element.style = originalStyle;\n",
       "            }, 2000);\n",
       "        });\n",
       "    return false;\n",
       "}\n",
       "\n",
       "document.querySelectorAll('.fa-regular.fa-copy').forEach(function(element) {\n",
       "    const toggleableContent = element.closest('.sk-toggleable__content');\n",
       "    const paramPrefix = toggleableContent ? toggleableContent.dataset.paramPrefix : '';\n",
       "    const paramName = element.parentElement.nextElementSibling.textContent.trim();\n",
       "    const fullParamName = paramPrefix ? `${paramPrefix}${paramName}` : paramName;\n",
       "\n",
       "    element.setAttribute('title', fullParamName);\n",
       "});\n",
       "</script></body>"
      ],
      "text/plain": [
       "KNeighborsClassifier()"
      ]
     },
     "execution_count": 439,
     "metadata": {},
     "output_type": "execute_result"
    }
   ],
   "source": [
    "#Train the model\n",
    "knn.fit(input_train,Y_Train)"
   ]
  },
  {
   "cell_type": "code",
   "execution_count": 441,
   "id": "38d3c95d-03fb-43a0-8fd4-d81eca1f6d41",
   "metadata": {},
   "outputs": [],
   "source": [
    "y_pred = knn.predict(input_test)"
   ]
  },
  {
   "cell_type": "code",
   "execution_count": 445,
   "id": "da282828-109c-4448-85df-2a3b70a74a02",
   "metadata": {},
   "outputs": [
    {
     "name": "stdout",
     "output_type": "stream",
     "text": [
      "Accuracy Score: 69.80%\n"
     ]
    }
   ],
   "source": [
    "print(f\"Accuracy Score: {accuracy_score(y_pred,Y_Test)*100:0.2f}%\" )"
   ]
  },
  {
   "cell_type": "code",
   "execution_count": null,
   "id": "e48ee742-b896-46c1-8271-79a68901d60c",
   "metadata": {},
   "outputs": [],
   "source": []
  }
 ],
 "metadata": {
  "kernelspec": {
   "display_name": "Python 3 (ipykernel)",
   "language": "python",
   "name": "python3"
  },
  "language_info": {
   "codemirror_mode": {
    "name": "ipython",
    "version": 3
   },
   "file_extension": ".py",
   "mimetype": "text/x-python",
   "name": "python",
   "nbconvert_exporter": "python",
   "pygments_lexer": "ipython3",
   "version": "3.12.3"
  }
 },
 "nbformat": 4,
 "nbformat_minor": 5
}
